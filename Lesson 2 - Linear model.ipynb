{
 "cells": [
  {
   "cell_type": "code",
   "execution_count": 130,
   "metadata": {
    "collapsed": true
   },
   "outputs": [],
   "source": [
    "%matplotlib inline\n",
    "import numpy as np\n",
    "from numpy.random import random\n",
    "from matplotlib import pyplot as plt, rcParams, animation, rc\n",
    "from __future__ import print_function, division\n",
    "from ipywidgets import interact, interactive, fixed\n",
    "from ipywidgets.widgets import *\n",
    "rc('animation', html='html5')\n",
    "rcParams['figure.figsize'] = 3,3\n",
    "%precision 4\n",
    "np.set_printoptions(precision=4, linewidth=100)"
   ]
  },
  {
   "cell_type": "code",
   "execution_count": null,
   "metadata": {
    "collapsed": true
   },
   "outputs": [],
   "source": []
  },
  {
   "cell_type": "code",
   "execution_count": 131,
   "metadata": {
    "collapsed": true
   },
   "outputs": [],
   "source": [
    "def lin(a,b,x):\n",
    "    return a*x + b"
   ]
  },
  {
   "cell_type": "code",
   "execution_count": 132,
   "metadata": {
    "collapsed": true
   },
   "outputs": [],
   "source": [
    "a=3\n",
    "b=8"
   ]
  },
  {
   "cell_type": "code",
   "execution_count": 133,
   "metadata": {},
   "outputs": [],
   "source": [
    "n = 30\n",
    "x = random(n)"
   ]
  },
  {
   "cell_type": "code",
   "execution_count": 134,
   "metadata": {
    "collapsed": true
   },
   "outputs": [],
   "source": [
    "y = lin(a,b,x)"
   ]
  },
  {
   "cell_type": "code",
   "execution_count": 135,
   "metadata": {},
   "outputs": [
    {
     "data": {
      "text/plain": [
       "array([ 0.7833,  0.019 ,  0.1536,  0.2619,  0.0226,  0.7184,  0.0496,  0.3702,  0.8071,  0.7914,\n",
       "        0.2681,  0.7656,  0.9629,  0.9732,  0.3599,  0.2665,  0.821 ,  0.4224,  0.2797,  0.1273,\n",
       "        0.7958,  0.0719,  0.268 ,  0.5801,  0.7161,  0.0806,  0.7917,  0.248 ,  0.4705,  0.5689])"
      ]
     },
     "execution_count": 135,
     "metadata": {},
     "output_type": "execute_result"
    }
   ],
   "source": [
    "x"
   ]
  },
  {
   "cell_type": "code",
   "execution_count": 136,
   "metadata": {},
   "outputs": [
    {
     "data": {
      "text/plain": [
       "array([ 10.35  ,   8.0571,   8.4607,   8.7857,   8.0678,  10.1553,   8.1488,   9.1106,  10.4214,\n",
       "        10.3743,   8.8042,  10.2968,  10.8886,  10.9195,   9.0796,   8.7995,  10.463 ,   9.2673,\n",
       "         8.8392,   8.3819,  10.3874,   8.2157,   8.8039,   9.7403,  10.1484,   8.2418,  10.3752,\n",
       "         8.7439,   9.4114,   9.7067])"
      ]
     },
     "execution_count": 136,
     "metadata": {},
     "output_type": "execute_result"
    }
   ],
   "source": [
    "y"
   ]
  },
  {
   "cell_type": "code",
   "execution_count": 137,
   "metadata": {},
   "outputs": [
    {
     "data": {
      "text/plain": [
       "<matplotlib.collections.PathCollection at 0x7f36be13f790>"
      ]
     },
     "execution_count": 137,
     "metadata": {},
     "output_type": "execute_result"
    },
    {
     "data": {
      "image/png": "[encoded data removed]",
      "text/plain": [
       "<matplotlib.figure.Figure at 0x7f36be31f750>"
      ]
     },
     "metadata": {},
     "output_type": "display_data"
    }
   ],
   "source": [
    "plt.scatter(x,y)"
   ]
  },
  {
   "cell_type": "code",
   "execution_count": 138,
   "metadata": {
    "collapsed": true
   },
   "outputs": [],
   "source": [
    "# mi loss function es SSE (sum of square error)\n",
    "def sse(y, y_pred):\n",
    "    return ((y-y_pred)**2).sum()"
   ]
  },
  {
   "cell_type": "code",
   "execution_count": 139,
   "metadata": {
    "collapsed": true
   },
   "outputs": [],
   "source": [
    "#Asi calculo la loss function. Es la suma de errores cuadrados de la funcion lineal lin(a,b,x)\n",
    "def loss(y,a,b,x):\n",
    "    return sse(y, lin(a,b,x))"
   ]
  },
  {
   "cell_type": "code",
   "execution_count": 140,
   "metadata": {
    "collapsed": true
   },
   "outputs": [],
   "source": [
    "#Aca calculo el promedio de la funcion de costos. \n",
    "def avg_loss(y, a, b, x):\n",
    "    return np.sqrt(loss(y,a,b,x) / n)"
   ]
  },
  {
   "cell_type": "code",
   "execution_count": 145,
   "metadata": {},
   "outputs": [
    {
     "data": {
      "text/plain": [
       "8.9248"
      ]
     },
     "execution_count": 145,
     "metadata": {},
     "output_type": "execute_result"
    }
   ],
   "source": [
    "a_guess = -1\n",
    "b_guess = 1\n",
    "avg_loss(y, a_guess, b_guess, x)"
   ]
  },
  {
   "cell_type": "code",
   "execution_count": 142,
   "metadata": {
    "collapsed": true
   },
   "outputs": [],
   "source": [
    "lr = 0.01"
   ]
  },
  {
   "cell_type": "code",
   "execution_count": 143,
   "metadata": {
    "collapsed": true
   },
   "outputs": [],
   "source": [
    "def update():\n",
    "    global a_guess, b_guess\n",
    "    y_pred = lin(a_guess, b_guess, x)\n",
    "    dydb = 2*(y_pred - y) #d[(y-(a*x+b))**2,b] => 2(ax + b - y) => 2*(lin(a_guess,b_guess,x) - y) => 2*(y_pred - y)\n",
    "    dyda = x*dydb #d[(y-(a*x+b))**2,a] => 2x(b + a x - y) => 2x(y_pred-y) => x*dydb\n",
    "    a_guess -= lr*dyda.mean()\n",
    "    b_guess -= lr*dydb.mean()"
   ]
  },
  {
   "cell_type": "code",
   "execution_count": 146,
   "metadata": {},
   "outputs": [
    {
     "data": {
      "text/html": [
       "<video width=\"500\" height=\"400\" controls autoplay loop>\n",
       "  <source type=\"video/mp4\" src=\"data:video/mp4;base64,AAAAHGZ0eXBNNFYgAAACAGlzb21pc28yYXZjMQAAAAhmcmVlAABBGm1kYXQAAAKuBgX//6rcRem9\n",
       "5tlIt5Ys2CDZI+7veDI2NCAtIGNvcmUgMTQ4IHIyNzQ4IDk3ZWFlZjIgLSBILjI2NC9NUEVHLTQg\n",
       "QVZDIGNvZGVjIC0gQ29weWxlZnQgMjAwMy0yMDE2IC0gaHR0cDovL3d3dy52aWRlb2xhbi5vcmcv\n",
       "eDI2NC5odG1sIC0gb3B0aW9uczogY2FiYWM9MSByZWY9MyBkZWJsb2NrPTE6MDowIGFuYWx5c2U9\n",
       "MHgzOjB4MTEzIG1lPWhleCBzdWJtZT03IHBzeT0xIHBzeV9yZD0xLjAwOjAuMDAgbWl4ZWRfcmVm\n",
       "PTEgbWVfcmFuZ2U9MTYgY2hyb21hX21lPTEgdHJlbGxpcz0xIDh4OGRjdD0xIGNxbT0wIGRlYWR6\n",
       "b25lPTIxLDExIGZhc3RfcHNraXA9MSBjaHJvbWFfcXBfb2Zmc2V0PS0yIHRocmVhZHM9NiBsb29r\n",
       "YWhlYWRfdGhyZWFkcz0xIHNsaWNlZF90aHJlYWRzPTAgbnI9MCBkZWNpbWF0ZT0xIGludGVybGFj\n",
       "ZWQ9MCBibHVyYXlfY29tcGF0PTAgY29uc3RyYWluZWRfaW50cmE9MCBiZnJhbWVzPTMgYl9weXJh\n",
       "bWlkPTIgYl9hZGFwdD0xIGJfYmlhcz0wIGRpcmVjdD0xIHdlaWdodGI9MSBvcGVuX2dvcD0wIHdl\n",
       "aWdodHA9MiBrZXlpbnQ9MjUwIGtleWludF9taW49MTAgc2NlbmVjdXQ9NDAgaW50cmFfcmVmcmVz\n",
       "aD0wIHJjX2xvb2thaGVhZD00MCByYz1jcmYgbWJ0cmVlPTEgY3JmPTIzLjAgcWNvbXA9MC42MCBx\n",
       "cG1pbj0wIHFwbWF4PTY5IHFwc3RlcD00IGlwX3JhdGlvPTEuNDAgYXE9MToxLjAwAIAAABKfZYiE\n",
       "AD///vdonwKbWkN6gOSVxSXbT4H/q2dwfI/pAwAAAwAAAwAkAvzHv6EHQzQgAABQic/gsldNQVEG\n",
       "rVWJETueZW6CveofCONurjKq1mcfZ0P89EfiowXffzerReILorurz0Hw00X7IHiVKxzwYDZD0QxJ\n",
       "mjjow9WXmubobDkAAdDOln/+RoP2cCVaBOUFvoveKVubvI2XpMzFExpGWRIh3zPmO0u7oAgNZm+a\n",
       "PlG+wK3KkGbZM5szhHnJI1G5l6sYHfAk3gmWZUpq4FmGMigNGTYIKWBEa/bdK1YkiJlbD08YRq3h\n",
       "/+NvblV9wDunSkQ7LxYbxojNYCGgba/e5LV8nTrXMLhmcSb30AA3JRV4JgVljoA+USp3nYPaKFE8\n",
       "d2W8SENn/SHRtXxqDObWntOrsJUBOIqXT2AjtkPx65vypmn2YquMuecjWFOuC03qtw1cS2lriEZk\n",
       "UfZxO3o/SyT98a1YBGOC2Ez+uDgfs8jSUbjweLZFnSsUI9O2gUDvV1Bovv2ns6zEpT69a3R750ps\n",
       "YwtPy0/4P1UgYZIWKzT+x/tcsun0Z+g3W591u+es50Q21kLiHYiFrp/XML9x2TiSpZGP26B2uzBi\n",
       "PPfeNa/kXO4VlQlf7nYuR3RjmXMuiFVACesIk06aYF5y2o/UxfYg8E1CitS2dgMyBOb1IZbFZLps\n",
       "FmOcERzBbola242hk0N2/e3ZhlpPdpWJS3iQ4XmSbeCZ3tajZc7VWUmUwQTIbc2+58kUwlAaEI07\n",
       "x+t7fdM/LmofvN+gK8bQnCqapt3Cg1ZxHKifSMTh6gTXZciE7PUajDEHyN+3YNe64uoh/67FCAOw\n",
       "fTjKhjvN+zgAHTcCcq2FaiZqGwMTtutTNt6yondHHMv9jnWPsolqwgVL7mZ3LIEsgGzEOk5uBAyX\n",
       "uzaEySIrTMt/+B+uWmnIH/mMLw1WDDihNg3b+fFse3kWZt2092MrlkBkvPCbSX0nclBck8xCtISC\n",
       "hlEUFfkGW2MbUzRVyBLFc9u0+/48Dei2YeK/EQQsMpmegAAVsXBCGeNrMFSMqDLngdQ61eVXR7Jy\n",
       "LH3BQrlNNRpUByIU1W3h9n/qQs4fr98ryG7Z2XajCZ6OMjte5SAv1nPe9MbDVV6d6vebIB5C3Vha\n",
       "QWHJeAuKZbiC4jjBGLE+Spufr1ymiKvNCqaqRFvNWiHmPiQKEWmOPe2BvYWuRv1em3gssrTaQqMj\n",
       "2NgiBP/+bEaC3pqGIHxdvY9kYtyBrVIjHB/S+K55yAV9LwQTv3K7cfZmY49uQ0ImHwiQh4cr5G+l\n",
       "C2c9PLOV/5JaxTwYW8Tgh0WH0n6wN2MgU4/F3pMB3X2hQf9YqcEbMkOh26M5uzs0YUCNkWgS3Ysg\n",
       "Pify++9Jzf5cuLTY9vvbxiVK9hoC+6AvAjPZCFQVPN0VInGSm+PaYSIg/eL6r/4fLXlIQ0xo97wb\n",
       "3DL2pFX865wQaZZruQRjv60mW9id44c2D5cTTU+r3xXF5Ot0UprHCFNui4tmihLe/dP2HrZxYqyd\n",
       "FKJ08EdAsj+CB0kXhLtOe2FangWfGYoTi/ZUbnIEjrn+gMyXs3awtqE/SpM7szZieEEaKbWU+zdP\n",
       "GhL8KhUXEmxyXY+HtJV8jPw3JRmvNmWiRvvOVT+FNgElzzbojgQx0tefF0FnT3+9xHLvvonJDUpd\n",
       "qgq4UuSves3jMWk8xmbFUHOe0HYDlfe6AwP8ukH9zcXeDNMjuX56Ggk3MPMe6Tbfehi4aM/vY4V8\n",
       "rYKYZlH33HPVE9sCU30Iag6e15kNSPHXvOUyZsZnwOb+1eqMfzY0/6iSnIUF29JZn2+7cKVJvt4l\n",
       "KfdbfTUysP8ihqzTnAKxtdUNCwU1PlV26wfAYidZnoqrHm+lBET3gaPLej48M5B/qNJ0wF9kR5iJ\n",
       "b+CZluq1n9nDQJQpMGOE0CEBvE8VScGIoICUrxt6mzs4rRTQ99iycbCnQuHo1BGUnfTL/Ua6e9gv\n",
       "Tl9r5CN3wmIe1N2HW0sDwOsKyUiV3VP4lAp7lJTBV9Q+FjyJzZC51524lMSCQL4EO2SmGwEugqkY\n",
       "L/IuM6QNoyjPsk2GFIBT1oaYKcPNoiQwH6LbWaUv8xqFE2vJ8JLwSFa/7pOv/esE1H7Vcr3ShXUR\n",
       "MX58s2h2KwmZCtFX/7sIsffiZM+Yy61fDx3z7lSQMyEqGAPdDaxZaniOQEoT2ZBupyasWM7APvCZ\n",
       "UjMbcB433kFs5Foo3uDZRv7IYwf6qgGnkCAUcO0B7Ad7z9uXRTxbNUS+GYLMGJdtyEaic96Y4b5z\n",
       "y6JSks3U9dXyY9jIaia7yIBhUuUj0RXmIiVtT4/0xhsQI7dl9FED0A1oqm/jaDEsH9at46kvixBb\n",
       "RyQh9ESXqWwNdqCDsDdiev/m+uCr1aqkMx9TlYibZtzrE/Yd9nJsXhZyXa7/fb9FwsC3kMcX2C3r\n",
       "+RKib9UpksvjLzxQQYQx5FStw0rrjTj2s4SizyIEIU4KR5mAY/D6dhS1KDIj80QMi90Bd1V8kY84\n",
       "yTGncCsKTEi5OIKJGaJ6jmvOV3vFT6Rbhp8N+/0j0nkQHvHXZdGPCeZ4hctTmIzVMzwA/nqVbkRG\n",
       "gxxRw1T1DUEOBr4vkv9KI1hfF3BlqTwqyr9ux0QVebKb6QUpb/eSkGLc744r5NpJMZeCHYyDH90C\n",
       "ovHl5BWZAK0dxuADy8STQvXYNo+dgYUdZ91MjZ7UAxkxemsc9uPCA5LK1XbGFatNfmINKPkj76g8\n",
       "NwtNXkFsA9MXx7k9SxN6rKhXNpG4QcDXGZv4rkC/2sJ7bl/0Fhxs0RswfaO8Dze/5nmGN2Z3jc5N\n",
       "51Zve5SAYRHe684XYCJcVHMHN+9TXzecPM4702VVuLHEGc4easar5PgRj61eBY5xtG0XtHWWZMKL\n",
       "pc3vHrJ540iuIQdh55ZYzd0TO6b5NxZHBXDv8tIY1v1oiQEcYQz7VmviFYk9Kx0qF6ulaakyPwYe\n",
       "nwcgNorickCdfjAFuU5dx58W/XVbcJrT4nEjsH0btg6jWeP/lW0/OlNxpleemzC5wlNIHVNxqejO\n",
       "jEozXM+fjB0Alv8AAXF97Prg5RSKYgskA9gIePYMOGXIkYDYOMnTDAzQ9m+oT0nhC+4vIWKTgNB0\n",
       "XX4feqk5xoQRdLTQdj8pmsKJDq0gXbk25awc3WVRkNLgVZlI39p81khZrC5hwl03CD43uJyOf+mD\n",
       "h0HLay0M7DGR/jZPXTJ2b+iQQbzv+/B1UGvgABa0NBHZ6hCh7j7Sheg8H+h1jeU1Lrfm3N9tFSQD\n",
       "g+w2pIRKGVXrKr2PMz3e3Uf+i5NdO96wmGx/4Oxn5CtEf3xFGL86cMXM9cpDW9hPPY/tNAIOjB96\n",
       "ACQOHnA7SilDnGii5mVwdcjXAxHhQ5op8yt/951PALIFZtof7K97Dw/3gHW+N9ae736Xff8IkMMq\n",
       "sLu2yifqxRnBTvD5BCrh76ySGxsdw2Yc+ES8dg1ntrVS7IDpKfopBlxTKYlzMXlK4BCvE3PvEtDo\n",
       "JvO29XGaTvgAM8gdTzHsQ8vnzldosyhAMzf/28oBBOzwH31ff2TmMdyuQVKCg/dL3JizJQ+4+YwB\n",
       "WeG8QgFkSdBVhQZ6jiU2PeIj/dXH1bwIg39EQ+utS1a1NyDppfHp4kEyVy6eOQbw046TwV03J35c\n",
       "gsZIKowmSpJP9I9296WZrJdyrhdDzSaLUVihPFaSA9PLMPW8Xsf+sNC328Oo2F7rQny7xdoQw7V+\n",
       "ANzopBLJ3FOdyyuju+rS3i57mWJOoYx2H/9FDSE3cpr9l+a6ux59TXXdr5OWyFQ/TLO7H+p1k0xz\n",
       "kF1uMRM9eBQlIKou/gmm/AYmHKMZJtV1WnkVSes2BOL5AtRV+5UAyctXtE3YoxSk3S2O7KEL0mJ0\n",
       "uve0LS+aEEwHpUEDi5DSa7G9Gi586hpuSJwAMnELy5O4cF0Byu/6RNM1oP5B3v5bMbbObJ5CBD7g\n",
       "XYolw0hSojzG4Mzz9aYBjQhW+Q4jiknrM4CWgyfLZtxcxAJ8PCrHWXREJ+nxV7ZglZV+1zunqng0\n",
       "u4mlvBGXwVwLEz61nLMH12IDJKTelvrfKbIkd/RjlFYV6MtE4iaFZYNTmB2re0yH4o2WIKRhxK8/\n",
       "XFhKf0MK6Kxn8SFFsgYTvNCs00/bafKpbkRZLaoVtyGmRZDoCCW2JVqZEOZLVhmF/Dtol7ZdKHT6\n",
       "IACctToAo8XkzRhDk6ApVx4wTTSgwr0XLWvIILdiOfhked2S4R0sRvxVOdwVQrGAcGL0ClDNlVmf\n",
       "Co2k+r4rjV7SjIZx60VfJKqacEAEZYV9LZOYIDGCRsRQSy+yEQmopccxODNyMwrsD2gljHiRt8cf\n",
       "UwdFvomwzNreu+DVO0igPekARJFW8FCl0gw0HFw/6jIlbEP8XJ+Yzj2vaJy71/IEZSdefwocJKnU\n",
       "XqnH8qAVxz6nB4uS5Zy7uWAN3LVoK/5Z+T1QK3L1Vv5LC5sfB1wIktowJxd3EixkR/6Ia2CCd4kt\n",
       "9iVLChIJf5xXiTa96fHKcQb90FJ01YvvxIWxy+uG3Tvo+mZs2eARF5Z+hY+BHzFyG+RIMbgH//fL\n",
       "rhgUp6loa0+XHZZEHgUnQPZkBGtBcCb44MeU1fSeAW3nEFVCxdpgQ+JQ0eGUNyOeDGgyINVPxaH8\n",
       "205FH9pdt7ares5lbfc6dbs4D1HW3jm7PkUhL+OSJ35HUVGJ0JPSUx6YlukatKiMXZA8HiqLYDBH\n",
       "8ssB7R/8dDbrKpMJFm10wW6dOAhMeAq04CdloUTzyKX4Sm4keewEG4j+6yzO3F/HwOroXq7BhUrr\n",
       "N6x8DpMJebllP4fiyhZ1jHF37tWguqpjpy0EO3tARAlVinpodEz1XiQm07jY4+nUj/8PatYG2D36\n",
       "BggTf2tVe2jvYgfAgYIjeMlWBPa29wpVwPDE1xGZnPBxtvNkKcy2LMuFxhT//oHoBIfEQepQwZwk\n",
       "SR9nbM6P3eF9zY64bn/G76g/lhdIQ2gybBAgBNMwFC9Bbh7/XRuKB6YOMMKENrgjLbPonWbMm7O0\n",
       "C/vi/CRud9UKKqw8i2k1Gz1WeCoor6+ogiIWHkXdkQjrPYQ6x2OpfIMoGZeMEyvvQ1IEyTjIWPLS\n",
       "f51rLQSnkO0NHz+N+4KEiFIf7VhR80Z8c1z0PtDbZeEdxTQhA+RgfzSmccRcRHo+rM/0cfoTzurX\n",
       "s9Ow4trda0GRY/dEASqi3M09Z4+BGTnWFQC+WNn9ywmP/OuWjBDQ+fSz5Lpf+Ws9qhoTSSk2QkKg\n",
       "HoK/eo0unPityiv46mOzfKhrSGlvJ5WPUMatH/JbfzHMiUuadFJuFuHVqJzIUb6NxDhWj7/B80de\n",
       "DGjXssPaa3AzDV7aViRwUwrrwltKzeijaCf1S9U6dJo6F4ZwO/mu8Knt01hnbNOf5KaN/ukohrg9\n",
       "e9glAV6ZzPF2u6xd8HsxOtsInVHzJxjhvECrmOPIFkE7sWCl3IvcdGHCX63EZx4R/7Y584JRSuwT\n",
       "UPYfAb7Ry0kRAGIbSarmOYEc9bdlcdrWj9RO/I/ZFUFM/wr/Fl+q/HthK0RFOWURKcaxhyVFFZix\n",
       "WPnrqzPdqFj0avg/svqH5Q/ECJgW3VMsOAc9I/XjA0t0WB31yc/vRARMNoglB5P62TOPbuq3svTj\n",
       "MkSFPvge6iXpHf8LCn/G6nb/pCa/wT3jGQiMQqSmBZE8WdA72s0uPb7oUskfVCbTWTXZp1fo9u5F\n",
       "+LvmuZfRhGbnxHJOmC3N5GZ9+ZIsckOf9FdAYC0bkV0kQlgAYkxLOaqLUJY5lN9vhaaV9uRTmgAp\n",
       "RPENul19YJCocKfeFNIxjBp+mZp6gt9yErAwENqycCpQI0v8Tj20LaW3xFkRi9P8+6zX3L6QoZp8\n",
       "Yp6amnX5pGjBhytkayvCtsiQxjdLTMb1wC30NvYEAaqLknjNgkj8yur3Sqtwb+GoFx+oA20320ie\n",
       "eJT36xs78+5eu5eO5isp+NAT8VzsR2UJLs96vMDA/ob27W2egJK0sgepFjg/sdiP2oxuwBK0skIZ\n",
       "ChsoAne6klsszDSmaYVTkzb/+24vJzaw2Qef8kCakQCcMR4fF+mT7Mmn0N8kkuJwOUEDyKobhqMu\n",
       "dgwNLifSq0miK7PKNgx6bv8m7CrqZzbPrPWcv+yTCGmS6anLX8IfzZHJ8E1lkJj8oyvKVtiGt94v\n",
       "ME7wvEEf6d6E/K2pNHQR4mFbdc0/S5O8Ya0jPP1lorZXSeIcmtHtSTI+UzNe3gV3FCm+EacbEj4U\n",
       "goca8a4BsUzRTzq44a22gxOtrUfQViBK39phlh+Fr72TXukzoZpeI1wuLmPuGjOPrm4WoW5+08nE\n",
       "bKJA6gpJAJaBW5/Q6QRUOMZGJAGCo8OE4s6L2/GQABPRAAAEVUGaIWxBD/6qVQAKmMEgANUjsPfQ\n",
       "cd6m9dY/6/5S9ZPdU6qYrpBZLPSuv6G4jdLS6oW2sLpiiv4N6v0HzS2HqI2I/O+sD9z0cnHeiJAq\n",
       "PUgrUgb8jeVI0ATN0uydBrHVGEhIuXAUqvi6YSF9v1ADjh4okZIN1XP2iXubjEmaSkCYtIuOPi7R\n",
       "WUSx2BBMTf3nGYe48BlQ+MfZYZ32lzXSyNH20wMbb2tgdb7FTh9U5fhwTFgLSJMYlphEXj+r2E49\n",
       "A6INRc6A6NUKQ2+GeUuA8K8V1MyuZp1v3ganiTuwYMYpcu30o5eTDuNXP7sYPDuhiuytMZsARu8r\n",
       "1GQ4DeFvO7h6rurwfF5/I7jlcQa7D6Jx95KViTUtyQik4enfPpVZVgrvvGb2/wTn5D0FXsQYR8TU\n",
       "WA0R28J1lg12nb3b+qb71SvBiNe8CdP6hzfTJpztlsCzKbbGvSwrIcS6cVDOiQqdOdTTytarKHW2\n",
       "kLtZRZC+FsQNgk9xgebwAA37EnC/JBScoeGuP1APj1RbeN5oxD11AQRJ3vwfYZiNjpdEXgejrCH9\n",
       "IVGodBKF4QAlL4LlTRH/CehdIKYOJ14cFPGbhkrh12LQvIYweu5MWrAJMimOBJ2vkq2A+j92NBN0\n",
       "X7Iac4hwe5vJzwCe9nU0iPX4Wq159V3gIbnxWHPVCC4ZwSh6DsyR1XtGCdks9bgX1o7LJzhJYJhv\n",
       "8npRMb8lHDHozkGuSTn4ZS/y/HMrNnD56eSYlez4i9oKkUBaqHVO9ptk0yg50W1drutCRNA1YdWc\n",
       "vkYUktkHOLna6iHPeSTjYxsO39ifJP+PVRXMW1ZJjylwV+TLNngnIwQnADZFiSMvAMbXuNf3YtOu\n",
       "AGBdvPwGWqdgNnAhhXGO0jOtM31N5Srx5mSu6fF+WZIgjbaO3EDyVL2s6WdfNFb5xZYgkOhlKSDo\n",
       "n76gZATOxzEaZHYK/f2Ti84LMypipdNF4d+xaukT2EP7lwpm+Zr3u4UTR5EMal0HdHPtQ1oHaFn6\n",
       "MxsfhuVteHh2rJ6fsaabtMhpF8qqF1lJB8/0qVTvT66fkAJbziG5SHRIwCSJRNVoQ6KdI1zBF+R/\n",
       "IqqmgFxuFqSAQq8q2dWgFFXWkrJ8GqgQhWQuj9udc+li1omxqG+ZZB4RP3Xs/7DJmoJUKxOKY1S1\n",
       "VDz322tgXkYV999kkCjoCXcTTim6zXsP9T+NRUz5F/rFCWC0+TU7k+8KqfYjgeQvg+RmzvhZAp3P\n",
       "ayEsEGuE9+1xIokpgLJZQYgGyDIj8f+SM8NUObmR5OUXmtl6o7uuYAvKbnEjrWpzu9SlreBUpNbz\n",
       "ESlN19JeqS/Sx2tODULr60GoZhLz9uLjobljJQAAG3iDbUuo5rjwUBlKl0ABfmt517wgdHcA22PB\n",
       "dXDLPFI8eJKmviBNC9TMBHqosdcW40sout6XBnWC5T1lJJXhA0sG3I5sfpTeN+SWqQ0NEcvHOGTy\n",
       "JkDdjCj4AAAFCkGaQjwhkymEEP/+qlUAATh5GAgALNgRUPMNRfwjl1MWm+5Ix/KNapCVLOat3rTd\n",
       "vhgl9UU1URHTL8MkQL6MzXuRCO3EfDlwTJN7CpaVjUi1syr7AaHq+kC9mKoj+7aaYFVyTtBBnYSz\n",
       "gm4rpsZITsec20QaGCjBHHAEtqgU7qrQMEM4+iRnO76dQ2c0EMoiw5tLGvC40BrvIApHhVqENJAX\n",
       "VlAT/nVjDEEd2kbMqq3QClS7urCwgwyy2hyb3n2f4nWPBFVrS1ODFdvB45xf4OEa7PPCG3gEu5UL\n",
       "eBcLtyKGiyjMSWxwooXQSaPqo80lYpiePYpePUCoiNMDdg1R49q+sq6ekJ5GoNXpXWxevphVbK4H\n",
       "gp/M/merWrNtsF51ET/dueTZID1DCdp0rNWKGRAjWWmI+84ZXevcaQbDOnIE6qhByV4OrcVIeGjs\n",
       "EPj9YwVN9hdqZbI8JKWH/H+F486LlFU4XSpKpjyR4Z6f3lbkzbFt7Ed2pHjF0LX9nVYxBGOOjj8S\n",
       "o9MgREgj0C7YZwKdsg2xLBsebYuPnQqj9Y9uESnhR3nvL9sOKHZE/3PP3DzlG73/D4I86AV7sSUz\n",
       "4xGjId7tS2c0zMtueHKdurEkZe6JBwA5rcsa20aMfY3s/RVG0HkKH8O0CqbZCEQRDBgx3M8/XbB5\n",
       "ip5CVXn5D4EBgbPDZThirJ1kXG0hMxj2QJceF9XpcJVuzhRMSalS+jDpoNA6wVNy3cODueS3A3F1\n",
       "UGkDhU+M/HQiNdUMECpVkggYKil1YotA74Nj7bHpECK+hmOB3v3Ij8phXmKu6TiDQnCgfVRoJFoD\n",
       "2o9l0av++IW11u45PE8iCTAaYzvDMl5n8tnF13rEEDd/QFamEhGoO88Nb90rjjpowv9C3NWEy9K1\n",
       "nDt02rbey6mHQTw+xju9muklILmKr8Ke2JzLsej22lesrbmNPgvrVh4iz7a+XXnn0XpQFC4yeppO\n",
       "2KKYD0ZTcDQbciTGzTKn/7iPpPgL71FQYwV4UfqEnZs0POYt5IWMp/+2+FkVgmchuUBMdMc/Gw17\n",
       "9G2w0ojAqkLGRhJ2fhueeb8Y0xbP5gDqd+jkqQPg5tH3EkvmfURYmaVN/2bxfSEXPO9tvqW9EHno\n",
       "BVDpkelYz0AgkEmAzBPhczncGLaPVENfTlY0+JuvNhu++ninXYnBpJ0lwsLzWtlMQKvLdJYlKw3L\n",
       "bl6Vjy20fXlikniZrkywQbCTztNOS5ODqC6lvC+c3G2gkFxgoDm8QGXhLUfTnzpRz3jhumXf15Pv\n",
       "AX6xZ0gSNbx8AjzNEbrSUSpc2q/qxaMMsmpegJk/GWQgYoq/ntbWdxH4HbAwSZP75euq1QSmzvyR\n",
       "ECoXu1tvGBX2N+Ws9oI1i3NvPHeXHZsbyCX2dXjBaJQfIFZ85LKW1Fu8OWTInV3pg7F6MhFuR0fD\n",
       "JfLhK/TY9kLw/5/IxK19p631COAMIMK0uDbFs3QXawRqXbPcAJFcyfBhSiOavNY0Rn+LWzpiMWMK\n",
       "Z3g1ZbWkn4BjAfhyDWovOpTQ+bx18Cxza77dbc3AjRkoyIvfizXz7kXULOLzc09PJJRj7YDbTyd9\n",
       "HdvtbSnhvL8c0PUNQB5NgWdplYVX1gIC2qCTJ9wa2ujzeLEk6A4CjEIOT0kiZf6QH8pRMvpEPBFW\n",
       "/CDd2b8NvIoFTihmeracj+vuTt4kIbNL+ObkRy9xH3OAAAaWgjAXFFVmqAAYEQAAAtFBmmNJ4Q8m\n",
       "UwII//61KoABb/oWn5qyTIAN3SN8jKXEQBoJSf2GMKWRH45S/Qc9tG3Oaf+HtSlbOlaKgzCIHw7D\n",
       "b6FcnsS3E5LJ1WSJJ7G2hwfht4W/f5pJSQRRANch/A4rkUKxrEvzX/HvLDxtXQM5CfW8f27VxZp0\n",
       "2H2tOb4QA6x8kdESbgNn8U11j7yS/ruDy4/GrOjsFZFCtc2YvTbiHVVxUo1IPM0bqi5GI1TwiIkE\n",
       "MiLVjgdzG498xQYcavQ1EgPowkzGh9Fk8chWm4F/cTZ7bREShL5xKvSJVXL5VeM+P4wOCTYgWnry\n",
       "su1Lh+otvk3garGQcKxrJsCcE+yXs4/6FMFHC+sF63j34qi6mFVHft2+i9IDgpbbcN9gxkextPup\n",
       "DkXfV6OAdQynt9FS7LmT6W51oEbbeaupFa7DdQHFYIYVWgh8F1Lm76N6IjfkI1x52/lHGCPpDPa9\n",
       "MeDFuhemnYBJEzMGJ6SWYHfuhEjmNA2VnfaFAJGtgbGtOEAqtu5yF2TZQ7302sbES5b0hyuPkPJe\n",
       "jVBJL0m26ZKg3H6da+hN1m9vJ5UPwoRbqNef8vr5bviSEkHcXbcnhi3aGLcSSKSYcd0XCeEfaV6c\n",
       "vosesooj7STUXwgNw/b0qjGU9lvZuIQ0YpCFubzZfpcguxPBU//5KmpB459hrWbpdvCi1qvU3Ki6\n",
       "eLqdEnIvB3nYzoJ11q+vgIGWDU+kxB1BELT8vjQGGUCdGrMfTVBpAgfeTuS49owcsC24rTkvU75d\n",
       "GmjsX/1kZKH5dksNJ+T7zjjHy3l/npUfkQaaTCq6JWfyl6j47ctnA4GSqsooLTjgQCmBSgfmcBN2\n",
       "nqPsnNpHB4ZtsxiViT69D3R4cLvUvdE2Hw5Xu4+FnzuabdNMcsTW4e+vu+foFkZ0V94FFrZ9sMA3\n",
       "CPnMr5GttVlcn2Ewh9W3CZXEq/kDCE0AAGrvCDugAAAEzEGahUnhDyZTBRE8Ef/+tSqAApRP0gAj\n",
       "K8+pOIrvvw5DSwLIkyyuZtX/pyEprg3trP1oe21LFSK60mWMUzB5CPsXPoVPFdpndR6X1MH8ql6U\n",
       "WJV/yWLsqmaxPVQx8f0NvCfl3r0Lp7/ZOVnKJtysmUyvzz371j9HogM2Z2Gk9RV2D1WD6CXV2D/I\n",
       "kab0Lkju1/ciLSQg04KG/JGQUvh4KgVodjFbfNMg/n/4jr7SH12t7pnp3zXXz7uK37dk5BI3IyjV\n",
       "yVwNUQ0icpp/AUqIMx/25X38vVW53dLAVKTcLeq9OEBJQ5dDEl7g7f+LB3Z/aT5xnbMzxysVzl8g\n",
       "GUufzo3MCvx1YA/YJ1uczsa/5gw1Q432pjYBNlTfaYTc+aYopOeLL4WyfMWhud2wNDJWHkO5lnPZ\n",
       "9fIl2bwKFDL33TPR805L7j6xmuMoDjzk28Za/eB1wX6fsU8SCi/vJHsRpsDZQ7RlF1kPwF0sNhUb\n",
       "7+GwQJpQzQLAnr6TaiOl1MAnbz5LKS66rO6gODUqD5QsuramrjIJjfwq21ISXLF//zTMDHFiU3iQ\n",
       "my/GO46qjgfnv4RFkHGeY+ShrAhlcpcv+yHGrEToGqw9q54z4ApVU+BHi05ojBNuyzziV8ogV+a+\n",
       "xR0SyN5BNGDPkjNQu2lxAGsG0jd51P+WOsaSGJaw2l/PU886IVDP/grflkPnK/PzO9O4FzVX1JHk\n",
       "qCDsfpHwDBnPRoW67fbWofW+3alQSG8lWI7FA/oBmoUxXGu+ordHRgF8B2Mftq5lkDpv1OpU4p+m\n",
       "CsKSsX+etwom65WqVsMfjGdFjJlZ2EuBJKGwFKYQf4q4lyQJJhgbleVT6T549COJO42TkJHqGFa1\n",
       "4xeEMaIC8d5KtOD9EmGMRSZbtEuuZCvYHJQTD1STfrB07gxAPdZzt+A3EZw0LVSZ3hKngdqvkno5\n",
       "jvcHkgXujU+8hPKBQfBPHbrt0pZE85R9+5Z63+QaRjtLVS1CiJAB7Yo6RFwp4rZjcftybX44JJ1o\n",
       "dl/OdMltBDdRzHv6UFQzU+MKitvgwi5XLQCgnBm8jt+3VBXBB+2hptdryFPuaym5FzpEKpm/okZn\n",
       "RHqcOh5via2TWDhrRj4W8juMt/yhiC2RRHLkIzQSAK03M3Q+gikPiHjR1I7oNSOe+rjtmtkr2xqv\n",
       "yW62K7LdO9HJzZzaPF10aTOVGznZRwjNItinSu13+YGqNdUF176eTpWrsdX7bWg3xxU8p8/Ya3jw\n",
       "M9kUdiyqDLKjQnw/T0PWXnsHxEI7LIZi1pDGx6GgfPVYvPf123TtLCpsBoM1DDz7Vr1OT/++NuJr\n",
       "cTjcMRqqXrHGZtwrfvgnumwtI+zMYhblGXuBkLImPE2U3/KYTukTdUm0ifc1ccRgLYLVo2tyqIlx\n",
       "FeHwhLPAqp77hbNWWg2BKUhfkqehRJOPjtUv5Nf3knTb+KFOKMmdCO8ary7Ji63rj6fJNbX71la0\n",
       "eO+IaaeeOIJKYY0zdgu1wF+E3aqfSDaKx7+0IIxufIUqU8fyfudcLOfxQFCijAO9lUCRC4PFH8Vg\n",
       "CmH82/qn3mDc1kiAoMjxrYF7G+t0Y7CGJNryXqBvUiigX3lgZJCPb/5agfIfrKVdGgQfECuLav2M\n",
       "9ki86yPoi4EAAAG4AZ6kakN/AA4pQgL7aTUOXKbS8AG1XIShCDFqcuVBDqPmNsMwdY2L/hvNrX9d\n",
       "3xpViOA/1m36+Pfr0IcefN51ykF254WfV6Om0AIJffPAoppaMCB66/AdZ4XZM8YGc9mKyOff75Nx\n",
       "XFxnrioJqGtzZXk7pZg9av37LgI6qk8L1N3NUJpIrIk4SoekqTODz9LQ/u6OUQRzPt/pj2+5xQX9\n",
       "TbZs6W/bazn43D/C3k3S4hkTUJ0WHsI5CJ45FvRErpB2ETw4b5W8LHuUfHeFFuQptoSyYSQx73eE\n",
       "sZTBbADTteNmgsTeZCNdaCsuRPwuszDDRZSH09TKPCI8oLfUOR16SUJL9QMFrynQqt0aY78kABCl\n",
       "qUNlqlR/fuljMfgHEfCw8+SXAVEoQhUCpxwDVVOxIIKUPkZgsDwDnpaNMGdIaPaBo751mih/imW+\n",
       "h5+xdjjK9bAL+SFn8vKPU6C/BBF+at1vuVGBYOc3HErBdSSitDkiVFcwnvS0FWOw6/YF9wxwtz0D\n",
       "JPxJmAxOQVJhWmTSXMu+W1Gaj63xu3MwATkPIkGwrSbeQxgFAjWFmkwMmK4ZWW9wANeJhOEAAAS8\n",
       "QZqpSeEPJlMCCP/+tSqAArhQQMALD9KyxbHGuZlchxvaMAk7AR3YgQ1hHbD1W4/rUqxXX1OzJjPK\n",
       "mermeCLeh03xFJyWdKEL7ZQMj3VtAd56UJ+7AT4kGtCO03ivJgMHGdEKpdDlk4XYr6UVoFwpBmgI\n",
       "iAp5HpZ2H9gKMDWes6IplJZL9/PkUInUP+k57lOthIDLhMT1PNP3RhqSQ1RxpSM7m8SVX1kJKMLe\n",
       "e2Iuq0ZeoXm0BHYVyBZ9KVebNuoBjfoMkCLYtevBc4jIr2FN6uf5YFjbIv12FDJFp12olS2lZKEx\n",
       "guKAhxCdDXxViNVyzd2o8SpcjIU4aulMCUmix5AXoFWvGA0Ot/YcTI1t+YhNWPlGcF7PHrHmQKna\n",
       "K354PI5T4Buv0n8VGJbvme6SC6M1CQjCSO5h/ATCWCgV8o20A3///KfEglQYSPsYGDCtAyMjuiZF\n",
       "eCN5Ky5uBMM7A79feUaI9uQZiZSPL8gb/5CyeNZQxAojg77AyMmOm/YnyNAPCWnWm4SRKZSOueq8\n",
       "rUC0Fn7xlzWA3geLg26dqwbnBCoYhmvJS8WzJV3EmjvS/0jEMEJGdVfH+4/PuQB72d+yaTTLOKXJ\n",
       "bh4hKPyTMcdtf59HMxWfkKC5rOELvyvq+EpWdN8qPs6ZjVMEGbOc0AB3uJ0ErHty8TyVcviifX6u\n",
       "jYoeRW7FV8yEd7E9NLgevpOTw8D5tbWS7YgA2d7+Uojr2PDHiiRu3v1JCDGvrnk4IFTbb7ZQLgkA\n",
       "0eLiVUYUJHf080PCXz2m0TCzNYzgClMkABpebqm2qu1JuisqROkO6+8HCkQ8VCNuW598EZft8elY\n",
       "r9RaGXTWnqLUC3nfWFcGuw2+7Mgfpb2/UDoBw0umUpdCrHCqTcGJPDXfpzjAFr8ZHalNOwhxj2f0\n",
       "Tt/HspGO7TpfP90dJjOzi3gs2clYW16Nc6UhdbAsNDR8zfAij9u0mKhzTM/bGSVvXxY7/HyMUunB\n",
       "VhqxY6CseYwGYyTVsFow4WSPT0MzUvdzi2vITJM3a64X5gNz0C3hEyyjpIw8XvOfxw5MJwQGvH2t\n",
       "jvMC2UxsY8utht/2xvb/cccnDrrXSxvj184YfB/vnF1PTWSASY3E/PFF0XHgRsJWNpvRO81OG/2W\n",
       "z+HjDelyjg9ol6C2DzhuudVY7N8vVdd9vchFVZe96A2REvO6bHsDOXWRemrGIPBW0ZxDMn8QfvTa\n",
       "FFezXUNoeNoWSsbvw7daNcIx9X5OUOZsp9L8LE7xfwUfa3xZEnhhFC0DT0i8v9yg4+FmoDajQnbU\n",
       "+PsvRkKAJlSJ9Pbl1/3RFGT7SpWP79AzfoX2nvHGykArh5vuAnbU7wwwGNuuDUcgD2YTLLuC6urn\n",
       "gDSxeTYJDzyqnPtjVlJoQJYYIXqPhT7L9seUwABhbvHotycd5GhasrmpJr6k1IzVq/1EcfxxeLkT\n",
       "i43QljiO8XRkY5SSY9GxJLw+cwAerLby/rn4iZJx70poQz5TtPn9rpTRGVia+j52FbZY32Q8HGwk\n",
       "phdTBEvUEmk1spDy8Fi+/ZN39+NHBVdBDD/LYfW2WHt6uIJBnxxdqcMPBJI89DhXDlUS/i7M93or\n",
       "WVFyZm56mcOyjwI3NvI/AAAB1kGex0URPDv/AAqasMQpU6eWWnuADao+TgtdYrrMtBB/tgeF3tK3\n",
       "v0uQNEVxiVRxBU0d4rNPdENM75c27hrABot13u+hS4NoBtOIFmqWfe6tM//3Kc86NGFH+tY7vn9Q\n",
       "wQnCkHJ3/S/lM/Wf2KKLThN4tL723Mhyvxri4qPsYaDGzyLvD2GsMHlOL4JB/fFL2r2Q9vx0FD4w\n",
       "wrTVQ0h59Oe5UKRe7SZwPbjTA9OXjd51dV4rllYSRv4w67xFvusMzM7r+sLUIzM9dUzw7uCLAQVf\n",
       "L0WABm+AQjK+O+fWQid/RZAq+oP91rtHZw8Uylcusix6Y7K/4KlhKnL8vgJpZ/uMA65Azc2PGe2l\n",
       "4LnyJ3jMjVP6qMUVBxC2T6cyqTXcJAeTyJGqKDb47bomnRy/sh3B3rU6v3AKThK+ZoKwVuwnG1Pg\n",
       "OyWaC25ha0iHBCLK5nuGa9Z0MRfWxGznXPxWadmQi6dZcl865C38/4QMjwbEZP8kJU2xg5iKgTfC\n",
       "Iaih+RRtyA+VT//ebJC8RSM3pQ/nAUmDflAu8FZxdzlssBuONoZmnegGleKECxVtdXrdhJUr8g9O\n",
       "gSl8Nsb8ZQHmE4fmnVl4aGsdlXAB2V7Cj2AcERWdanPpAAABmwGe5nRDfwAN+UMu0YVHIAEJJfb2\n",
       "AbScJrBBbNyZTIXqSUtI2ufYye4OkW2JXdRhLK8i3GGF2IjJIXIU+fbfOjUb94f3Uxrbb3LXQC3/\n",
       "xDfhz26CfMHqKycjqN3oPuZspyCXUMLalAue2WlXZQGpohmIXJdRmXiHFRlKbash70hx9Vdbd9/S\n",
       "q/UDa7HW6pYqkkCN47mx77MEHlm+i8mYVNd2KV61XK01TgAXGLNjmlkErmqeQSAhFAPbf0VfZAFY\n",
       "poTivq6A7mRfPyQCzp17Wjm8kX7Zk8EB7GKUNJ2D8fUIn0nmCPHq/a7TCdhDAHl/w0ok/d0VZ7pB\n",
       "OMVy+zrkYVgaj8RkWvqoy/qL/sQh8wrYW5w5x78F1/jeUGTsWfwxXvtef37E9nofd+MJuC8crt+c\n",
       "M3NKObb/aZXYPRU22uBq6qZb/xLwRD6kVAIfjNzeYuumg04xUak2KHjDU7QFMK197jkLsyAFw7CB\n",
       "tKaR3mYbSDa0yZNFBJ4cjT0yMvwaADvpKdUoqWpTWcDXri56nAAQFflBZE6bNWy5wAAAAPUBnuhq\n",
       "Q38ADtlGeHdivshAAgiyTAY1TGOMrQ+4Bw1phNMLYlMb7UsYVsyY4aMOSa30fwuvVjz7vha2WZs2\n",
       "AVzIKmVlH4154z1SLuvpBHcE+iua1C/vropbcNqjh9qzFh1uneZ4Tz5P7XIisJ9l9xIgHkccgCrt\n",
       "bqiZJ14KqAeZ+5KNnOiQmCd9nWvhaP+5+REKIhn49o6ZxKMnJE6eyJWuFhFQ6NxOd+bPqjV4J7WI\n",
       "+eWFB28zEUSGBG8omRsaoYG+soUfUh1qKRLrSaU3ON+Kd6Xalx/AJbGfn15mOV5PUtFr/Nv14DmI\n",
       "80MATQFN0w2KFN+9wAAAAotBmu1JqEFomUwII//+tSqAArpEGnX4AjdEZcCjnAkb1VWmc7jZdrKH\n",
       "cH0kcXOEnXZlgdtvU6SfJNKQOOILKcO7Trp0mRT+vymCza+xcpjzeGB0gTU+N0bz4cmSA3oFJsyO\n",
       "M/6/nS//zXEs5sfHlbuS/YijTV1Du22bD+95tzMOr0tyOx4+AMmmii9+QE2Y5oR2zzmAFyrbHO1x\n",
       "1S8CAlh+B4arlYklNrqm4T8114Bhkld627KDIl/MLdchLtG89u/rcqnRvtQbCPGNxysqeEjmeCMy\n",
       "1/Jxv5MXn6bImNddXN09Ju6HO8eZM14uJqOc8MFBqkQBo2/Z0oYzkIfflKX5eUdOyLfOCANhMg+5\n",
       "3/GSBoTAj9lrH0IEHFI9qy3PNSztLpo5pZUw01/Sx+mbQYiDb5yHZP38tpJaBmODutDl9M3yyRiB\n",
       "ZeX9VzcAea0RzjcyDSI3hTikdQzC9BIBwrVsRcQThKZsSI/ejL9pjQZRxX1/jmHYnmzgGCTdqktb\n",
       "3vhp5l/UStfpuzUx3Dnwpuad2ce94ChMJUT9VjUmrD0gZZ64+VnHbn89T+JkrAgONQBgBv/PkXH8\n",
       "un3/S9I2e2IL+7u+WDUTuL1WNC/86N9A0VCnArkzjodILluXRtMFr5OYBneGAUEEbagpE9lT68qF\n",
       "esQeVGJ4VdyRDYii3OSQlnJl4FT8dAFYsvfLpiHE1WOgcQHCDGYPooNxfL/W4lb65tnZ+7U9cANL\n",
       "21kIgZRr6iGJ9KPUk6sBfICAfLIQCvl/kIhxD3wAn1jy4oEtFQKVRNA9eoDTQsWIUZ9sHQNXKQTH\n",
       "THTaAoaVhLIcJfRxLFQZMcoFj8bu3yqAdoRvcbIzQfJEyd+J+sJSdMEAAACrQZ8LRREsO/8ACpma\n",
       "iACWMj0e+cF4PmIugsCcpqsA/Q5jiG2IStpEebb0DQFI11fcJ+E6rVOZLpn8XuOCcTtgmjRDgU3h\n",
       "I31UxaVC/ex0hp6bG6ZuuUfil6QqWs8z7aUCZ0nsb3FUnM1kYtNPQgZEkjzxdhUO3Bv9izG9gC3c\n",
       "IjEZu8Ma6qsxJebxbopf8zX/XnXgUU75upljlkPkTNJwRYP0/whiAAEscL6LAAAAhQGfKnRDfwAO\n",
       "1qhIAE61WXUFN7eFiedo+5fOaflW5b2WFBVQkGhZLpi0HrwrcDega90av0tRc5tDtc5BIG7Z8iUF\n",
       "QzH2Zd34SWWjzCoS97hQ9470wLYEED3SbAnLWZ1NU2NTwpYMTSvOMjq/w4WcC15l9oFgC2VRX3z9\n",
       "2KWkA3f8AEcWz4AAAAAoAZ8sakN/AA3Ma85O3+Bs0MFcKYbM3fFKLJPJivmzbhm2RL2ACC5CDQAA\n",
       "AetBmzFJqEFsmUwII//+tSqAArhP0gAjFJYuDM5sQtxT41PbDszUd4xGAJqPhIIN2ltfsOeU46Nr\n",
       "IFCqs+3SFPR7P53q3CHJBlWZtRpAxhn6Jwxa/mUFUKRVxYSzcGDTfi3BGwfSfzpD46Q/YmTVLaQH\n",
       "rrXpnMTYAulK2DWuWuQJl/0zkkhUNWTD9Fzku2plF2lS/LfdixMQySx0zqF6HZJXUOCDEH6V5nNL\n",
       "9GUFibHEwfwJ0jZr4uFDzP9aszzDh3wJW8Zp4TU0fkU/w9HpkVdn3cKixa73d6ONOXFc5VJmq1cX\n",
       "A1dbGAMdGtXXsoLFw4kICdJC2fj8Iadhy1OQf756mm8s3ZMqKTcg3nUTWJGf0ewqfarnkl+scejP\n",
       "QIAhZwWBIMArzmYYNgqBIslie/5WOMkVq4EUk83fhENHEnCwnV7P8DmBaCg888DWVI9KVaUNL0Ui\n",
       "4Nh/QyIx2mmZkV3vLLFYupaUOd7moKuXlqVitynm3BtF+e9rsAeybIykEL5B8g5dL0j8Bafh6H5X\n",
       "ZL3LR6f8JvHUiEmc+dQ+0X2rGdZZk5uy3A3MgQnefeV1d6q8Zk4rD5ZjXI1v6Jho4tpT1Ra5zw6h\n",
       "NfzQThhAefygATNu9BFzVnrMEga/TVQ//HuskAJPcTaDCAAOmQAAAFtBn09FFSw7/wAJw1nLPH+r\n",
       "rsU2WCkWC3gAk1aRSNFuW6eTusQ2It1/qVHVtGXrbxPXRbzwhdcOErY3lIrCVSg2+ibsZ3Xm5Iew\n",
       "d4imZPDKIAZGVEf0Q+ADNAJfAAAAHgGfbnRDfwAN0dHPGM+nF2r3n3jAwGyrEQDhfX6ggAAAABsB\n",
       "n3BqQ38ADX/JRdc6KvnIZMCJnKYsBImlRe4AAAGiQZt1SahBbJlMCCP//rUqgAK4G9LAEYV6DJ43\n",
       "sHjk2Oel+s3tk8X61kqFElxkMz66ylwSjp4jbUpwTLMQxvnTWXVIDhF+oha6gDJdkeeYkBgbLIhy\n",
       "8iJkJHng7wbjcp/iST2qvbrxl8Jpt9kIFYldoTo2C23dz99PAxHildI4Lbr+yeMz5YsXnSSPx2Cu\n",
       "YFL0rxkE/Zb6uLnq+ksew9Gc8hWgsg1axkDeWLrwePDUBW77m/cm/74dab6CFva1DzAadRy5E3iT\n",
       "YT6wl9vtYtFJEbFi8t2dmibBCq5OBXTvXf+TIAXQX2en6fFJi9kKlrsdrEO3mHJaIjdd5mm2YqAe\n",
       "U9cZPKrZVSs9qDhUig1Io4lM9yF9okKbakfYk0cix7JtcNaxuPtJoGy3nGIMCyGEthu79n9ZAll6\n",
       "oB6CiE4W6/IoscNt2PcFw8ubRziy65tUi4PtgJPUVmiU5dhnplXsSlIUzRyAx2Nhssu5PZ4Hb/Di\n",
       "P1GVtFdVEN6Cdh/OLnY5rybf2Kt0n84715EPBv9u0B8CfONg8ejcrR6wnEsFdAal4QAAAERBn5NF\n",
       "FSw7/wAJw1nLY3MMP9oKu9nEaTTlowe4UhwASa/XUGwmGxmiTLTxtk6+YsRjCjDMiiyCRFUJTfqx\n",
       "gAAKGr6eqAAAABcBn7J0Q38ADtn1sZAcH/qItrqgG5Vt7gAAABwBn7RqQ38ADX7wMFrv6SPZe/Xe\n",
       "pNDTgABdCx8xAAABg0GbuUmoQWyZTAgj//61KoACuX2+IAce8oiJ4B27qmWiZKFPQjkP4XcEichL\n",
       "5fU+ssDYAAGhw7E8QPgMvia6sIUckSOVnn6ANlu2Io3ubk7GbZ2xCDVNd6L2BHwmunN2BErsYbl+\n",
       "FEeZaXXnH6E/bGdmXzqlXaPgKT1bqCcjJ+CnYyoGDzjOLWkAH7kyCXlANoaN8L/RecsPBrjAsdxZ\n",
       "tJIPv+UI/rne72qOqdNhND560c8mpjfqE/GI3lBAiwBkwHXkBsfhW77krhK6NVHZweOP0od3wblF\n",
       "DMfiFZWXZyAF/nm7eUr8LNfoL44NH4c6cYLsQ7uTKsE6VVnGE64T7Yycq9DrwY/OKOJxbiz8ngyz\n",
       "9Plj1ZXpgOGwEJTtNUobZ/muctKM9BTIYFNGloEm5jAgVaIW7F4TkMZz+4wI7drzh2mHpbEAXjzn\n",
       "bGVCk6t5eBPgrZ74Sxnu7BhTPxHJQJNhdLMXuflr1JdIxMV3AUSoOVJv9pZfwkyFod93DVRbuZFN\n",
       "cAAAAD1Bn9dFFSw7/wAJwj6i5EKfn4cLWAFvN4pJQl8Bn2JpnHNkoU1zrTHO4z7a45Fq2rbJaXxM\n",
       "MisHeAAFN7bNAAAAGwGf9nRDfwANgJNkukZoJzk6FsaMVACBFbNv4QAAABoBn/hqQ38ADc7wdcn8\n",
       "82xVBuHEOQAgPreeWAAAAVlBm/1JqEFsmUwII//+tSqAArhSOQAtpGsXCy5Yplq9E4+N57ddz/KI\n",
       "+SVcFv2E6l62uw7cW5sqMNDraZ264+E00HJwm/wMm0iZzDUA+mmb3KoJDcZYIffqP8gnZdO/bKsg\n",
       "w8ZDcgnv8Pi9w1b6WJumoMKF/RoQsk5y3S0mmHQ9j6lnN/aDu0PxpPhwdzJb3zyt28Z+UnByArtD\n",
       "RjTQYkpTRr0T3glnyZW0WRPrtJ1swdycW75IMrRQWQmyz3sDkyx0YICS/zZ0XaVQ+X8YM0p8aabL\n",
       "y4l7bfX5Sm7k/MTMB01Ty6OE3pvnlwlxENp85McIrrzxty906wy4iTGAo1UMLo0xAh/Pqg0CDvLn\n",
       "ZjP9hW5Whmabbe37crXNMggEf9Pm/C6EgWo1rE6mKv4sfRoShjFgLG9UmuJ4wD8wJfEWx7YTyYU2\n",
       "AgLOWiIDfrpWTNarStgy69dP28kAAAA6QZ4bRRUsO/8ACpmPOfVjbKgMWg6HQNYEBCfsruIATm3D\n",
       "LkPKmKKlEY7lDzvQ1ZMifzS0AAC1EB4YEAAAAB4Bnjp0Q38ADtad08aZkEiEPVcbhkeLY0QACw1u\n",
       "dbUAAAAfAZ48akN/AA3O8C6d7snBuD8L7j1QJSsfYAAy9k3W0QAAASFBmiFJqEFsmUwIIf/+qlUA\n",
       "BW/E3gA4ttkqV+BO0VSz6DeGLVuxh5h7eHQlZ5t0nHSzEZFxR1Jx/DkHC+mK8wQevMc4Xv/wOCrR\n",
       "6wOM5E5CKSSAEd71SP26TN/W+G4YCtUYuZWJPkP09kywnaORLRjiZY/ui5yP2uqbHvvXQE8uoODL\n",
       "QgawGy0WOUpIQN/M08AI7RxXNcuzcenINcb+FUglFiltH9A1qsUCu/c77ejKPb1428uD6uutmBCm\n",
       "PmJTYEAswH9moQBY8F3D2zvXcMZTPSvRAjEzVpi2HgjbICedP10pds/niKWccixyCdfmnOikTwLN\n",
       "dyu1kD8E+jnVoMbYkaPpCVFSsFhDLg/wM+a/aqQY3hiLqF7V51XvrVjIfh3+AAAAL0GeX0UVLDv/\n",
       "AAnDb+IwIVCRpsAVDawuq04AWsEiKrTDQrfoRd3L77nQAARnVATEAAAAGwGefnRDfwACCvtjEOZQ\n",
       "EMSzyhC7uCABXBTKgQAAABkBnmBqQ38AAgtfBSQCKrr5aLcnjAO1cNOAAAAAyUGaZUmoQWyZTAh/\n",
       "//6plgAUDt1YAP6BuvPctDS9sCs0+w4L5hwq/fd0nsaIsfNcVdpvlqtyfccc+rXLkmOb9KJ40fKq\n",
       "b7EFsQ9zSvpx45ugkbboEik5VMG5+y1r24GqzNLQHxe8V02bNR+tUK3LEPGuzvcka/nfxvEFb6yh\n",
       "wRUos9+fzy8SgeH8GpM2g1ZU91wFMAhMy3hcocaK3xdsuMlOvnenGDC7biJfFdJSwlYMFMWHcAAT\n",
       "9qEfiE9LzEada5mKJf8tlGG8HQAAACtBnoNFFSw7/wAJhNG9e7e8KX1Oflows0CtWqyJu1dq8ynB\n",
       "aP0QUAAAywFBAAAAGAGeonRDfwACCvtX9czalBMF1lOoBJKBiQAAABkBnqRqQ38AA4ncRBD41V2I\n",
       "DAuTxgHZnG9BAAAAQEGap0moQWyZTBRMN//+p4QAU/fDoAEQe2FM0rbCH5neV75qeELD3BAIFcFh\n",
       "7U3/Vai3+4TC9+v0Ii5z9lFABQUAAAAiAZ7GakN/AB2u4GrrX03J9YqRfoCHwFMze0T3MgAAk9KL\n",
       "gQAABPdtb292AAAAbG12aGQAAAAAAAAAAAAAAAAAAAPoAAAPoAABAAABAAAAAAAAAAAAAAAAAQAA\n",
       "AAAAAAAAAAAAAAAAAAEAAAAAAAAAAAAAAAAAAEAAAAAAAAAAAAAAAAAAAAAAAAAAAAAAAAAAAAAA\n",
       "AAACAAAEIXRyYWsAAABcdGtoZAAAAAMAAAAAAAAAAAAAAAEAAAAAAAAPoAAAAAAAAAAAAAAAAAAA\n",
       "AAAAAQAAAAAAAAAAAAAAAAAAAAEAAAAAAAAAAAAAAAAAAEAAAAAB9AAAAZAAAAAAACRlZHRzAAAA\n",
       "HGVsc3QAAAAAAAAAAQAAD6AAAAgAAAEAAAAAA5ltZGlhAAAAIG1kaGQAAAAAAAAAAAAAAAAAACgA\n",
       "AACgAFXEAAAAAAAtaGRscgAAAAAAAAAAdmlkZQAAAAAAAAAAAAAAAFZpZGVvSGFuZGxlcgAAAANE\n",
       "bWluZgAAABR2bWhkAAAAAQAAAAAAAAAAAAAAJGRpbmYAAAAcZHJlZgAAAAAAAAABAAAADHVybCAA\n",
       "AAABAAADBHN0YmwAAAC0c3RzZAAAAAAAAAABAAAApGF2YzEAAAAAAAAAAQAAAAAAAAAAAAAAAAAA\n",
       "AAAB9AGQAEgAAABIAAAAAAAAAAEAAAAAAAAAAAAAAAAAAAAAAAAAAAAAAAAAAAAAAAAAAAAY//8A\n",
       "AAAyYXZjQwFkABb/4QAZZ2QAFqzZQIAz5+EAAAMAAQAAAwAUDxYtlgEABmjr48siwAAAABx1dWlk\n",
       "a2hA8l8kT8W6OaUbzwMj8wAAAAAAAAAYc3R0cwAAAAAAAAABAAAAKAAABAAAAAAUc3RzcwAAAAAA\n",
       "AAABAAAAAQAAAThjdHRzAAAAAAAAACUAAAAEAAAIAAAAAAEAAAwAAAAAAQAABAAAAAABAAAUAAAA\n",
       "AAEAAAgAAAAAAQAAAAAAAAABAAAEAAAAAAEAABQAAAAAAQAACAAAAAABAAAAAAAAAAEAAAQAAAAA\n",
       "AQAAFAAAAAABAAAIAAAAAAEAAAAAAAAAAQAABAAAAAABAAAUAAAAAAEAAAgAAAAAAQAAAAAAAAAB\n",
       "AAAEAAAAAAEAABQAAAAAAQAACAAAAAABAAAAAAAAAAEAAAQAAAAAAQAAFAAAAAABAAAIAAAAAAEA\n",
       "AAAAAAAAAQAABAAAAAABAAAUAAAAAAEAAAgAAAAAAQAAAAAAAAABAAAEAAAAAAEAABQAAAAAAQAA\n",
       "CAAAAAABAAAAAAAAAAEAAAQAAAAAAQAADAAAAAABAAAEAAAAABxzdHNjAAAAAAAAAAEAAAABAAAA\n",
       "KAAAAAEAAAC0c3RzegAAAAAAAAAAAAAAKAAAFVUAAARZAAAFDgAAAtUAAATQAAABvAAABMAAAAHa\n",
       "AAABnwAAAPkAAAKPAAAArwAAAIkAAAAsAAAB7wAAAF8AAAAiAAAAHwAAAaYAAABIAAAAGwAAACAA\n",
       "AAGHAAAAQQAAAB8AAAAeAAABXQAAAD4AAAAiAAAAIwAAASUAAAAzAAAAHwAAAB0AAADNAAAALwAA\n",
       "ABwAAAAdAAAARAAAACYAAAAUc3RjbwAAAAAAAAABAAAALAAAAGJ1ZHRhAAAAWm1ldGEAAAAAAAAA\n",
       "IWhkbHIAAAAAAAAAAG1kaXJhcHBsAAAAAAAAAAAAAAAALWlsc3QAAAAlqXRvbwAAAB1kYXRhAAAA\n",
       "AQAAAABMYXZmNTcuNTYuMTAx\n",
       "\">\n",
       "  Your browser does not support the video tag.\n",
       "</video>"
      ],
      "text/plain": [
       "<matplotlib.animation.FuncAnimation at 0x7f36bdf3b310>"
      ]
     },
     "execution_count": 146,
     "metadata": {},
     "output_type": "execute_result"
    }
   ],
   "source": [
    "\n",
    "fig = plt.figure(dpi=100, figsize=(5,4))\n",
    "plt.scatter(x,y)\n",
    "line, = plt.plot(x, lin(a_guess, b_guess, x))\n",
    "plt.close()\n",
    "\n",
    "def animate(i):\n",
    "    line.set_ydata(lin(a_guess,b_guess, x))\n",
    "    for i in range(25):\n",
    "        update()\n",
    "    return line,\n",
    "\n",
    "ani = animation.FuncAnimation(fig, animate, np.arange(0, 40), interval=100)\n",
    "ani"
   ]
  },
  {
   "cell_type": "code",
   "execution_count": 100,
   "metadata": {},
   "outputs": [
    {
     "data": {
      "text/plain": [
       "<matplotlib.animation.FuncAnimation at 0x7f36beb38a50>"
      ]
     },
     "execution_count": 100,
     "metadata": {},
     "output_type": "execute_result"
    }
   ],
   "source": [
    "ani"
   ]
  },
  {
   "cell_type": "code",
   "execution_count": null,
   "metadata": {
    "collapsed": true
   },
   "outputs": [],
   "source": []
  }
 ],
 "metadata": {
  "kernelspec": {
   "display_name": "Python 2",
   "language": "python",
   "name": "python2"
  },
  "language_info": {
   "codemirror_mode": {
    "name": "ipython",
    "version": 2
   },
   "file_extension": ".py",
   "mimetype": "text/x-python",
   "name": "python",
   "nbconvert_exporter": "python",
   "pygments_lexer": "ipython2",
   "version": "2.7.13"
  }
 },
 "nbformat": 4,
 "nbformat_minor": 2
}
