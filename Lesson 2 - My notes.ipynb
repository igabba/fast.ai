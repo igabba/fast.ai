{
 "cells": [
  {
   "cell_type": "code",
   "execution_count": 76,
   "metadata": {},
   "outputs": [],
   "source": [
    "%matplotlib inline\n",
    "import utils; reload(utils)\n",
    "from utils import *"
   ]
  },
  {
   "cell_type": "code",
   "execution_count": 77,
   "metadata": {
    "collapsed": true
   },
   "outputs": [],
   "source": [
    "%matplotlib inline\n",
    "from __future__ import division,print_function\n",
    "import os, json\n",
    "from glob import glob\n",
    "import numpy as np\n",
    "import scipy\n",
    "from sklearn.preprocessing import OneHotEncoder\n",
    "from sklearn.metrics import confusion_matrix\n",
    "np.set_printoptions(precision=4, linewidth=100)\n",
    "from matplotlib import pyplot as plt\n",
    "import utils; reload(utils)\n",
    "from utils import plots, get_batches, plot_confusion_matrix, get_data\n",
    "from numpy.random import random, permutation\n",
    "from scipy import misc, ndimage\n",
    "from scipy.ndimage.interpolation import zoom\n",
    "import keras\n",
    "from keras import backend as K\n",
    "from keras.utils.data_utils import get_file\n",
    "from keras.models import Sequential\n",
    "from keras.layers import Input\n",
    "from keras.layers.core import Flatten, Dense, Dropout, Lambda\n",
    "from keras.layers.convolutional import Convolution2D, MaxPooling2D, ZeroPadding2D\n",
    "from keras.optimizers import SGD, RMSprop\n",
    "from keras.preprocessing import image"
   ]
  },
  {
   "cell_type": "code",
   "execution_count": 78,
   "metadata": {},
   "outputs": [],
   "source": [
    "x = random((30,2))"
   ]
  },
  {
   "cell_type": "code",
   "execution_count": 79,
   "metadata": {},
   "outputs": [
    {
     "data": {
      "text/plain": [
       "array([[ 0.6895,  0.1867],\n",
       "       [ 0.6437,  0.4027],\n",
       "       [ 0.2202,  0.7571],\n",
       "       [ 0.2859,  0.7009],\n",
       "       [ 0.6246,  0.5746]])"
      ]
     },
     "execution_count": 79,
     "metadata": {},
     "output_type": "execute_result"
    }
   ],
   "source": [
    "x[:5]"
   ]
  },
  {
   "cell_type": "code",
   "execution_count": 80,
   "metadata": {
    "collapsed": true
   },
   "outputs": [],
   "source": [
    "y = np.dot(x, [2.,3.])+1"
   ]
  },
  {
   "cell_type": "code",
   "execution_count": 81,
   "metadata": {},
   "outputs": [
    {
     "data": {
      "text/plain": [
       "array([ 2.939 ,  3.4955,  3.7118,  3.6745,  3.9728])"
      ]
     },
     "execution_count": 81,
     "metadata": {},
     "output_type": "execute_result"
    }
   ],
   "source": [
    "y[:5]"
   ]
  },
  {
   "cell_type": "code",
   "execution_count": 82,
   "metadata": {
    "collapsed": true
   },
   "outputs": [],
   "source": [
    "lm = Sequential([Dense(1,input_shape=(2,))])"
   ]
  },
  {
   "cell_type": "code",
   "execution_count": 83,
   "metadata": {
    "collapsed": true
   },
   "outputs": [],
   "source": [
    "lm.compile(optimizer=SGD(lr=0.3), loss='mse')"
   ]
  },
  {
   "cell_type": "code",
   "execution_count": 84,
   "metadata": {},
   "outputs": [
    {
     "name": "stdout",
     "output_type": "stream",
     "text": [
      "30/30 [==============================] - 0s\n"
     ]
    },
    {
     "data": {
      "text/plain": [
       "18.852970123291016"
      ]
     },
     "execution_count": 84,
     "metadata": {},
     "output_type": "execute_result"
    }
   ],
   "source": [
    "lm.evaluate(x,y)"
   ]
  },
  {
   "cell_type": "code",
   "execution_count": 85,
   "metadata": {},
   "outputs": [
    {
     "name": "stdout",
     "output_type": "stream",
     "text": [
      "Epoch 1/20\n",
      "30/30 [==============================] - 0s - loss: 1.6367      \n",
      "Epoch 2/20\n",
      "30/30 [==============================] - 0s - loss: 0.2401     \n",
      "Epoch 3/20\n",
      "30/30 [==============================] - 0s - loss: 0.0959     \n",
      "Epoch 4/20\n",
      "30/30 [==============================] - 0s - loss: 0.0388     \n",
      "Epoch 5/20\n",
      "30/30 [==============================] - 0s - loss: 0.0170     \n",
      "Epoch 6/20\n",
      "30/30 [==============================] - 0s - loss: 0.0132     \n",
      "Epoch 7/20\n",
      "30/30 [==============================] - 0s - loss: 0.0033     \n",
      "Epoch 8/20\n",
      "30/30 [==============================] - 0s - loss: 0.0018     \n",
      "Epoch 9/20\n",
      "30/30 [==============================] - 0s - loss: 6.6511e-04     \n",
      "Epoch 10/20\n",
      "30/30 [==============================] - 0s - loss: 4.5911e-04     \n",
      "Epoch 11/20\n",
      "30/30 [==============================] - 0s - loss: 2.0406e-04     \n",
      "Epoch 12/20\n",
      "30/30 [==============================] - 0s - loss: 6.2583e-05     \n",
      "Epoch 13/20\n",
      "30/30 [==============================] - 0s - loss: 4.8781e-05     \n",
      "Epoch 14/20\n",
      "30/30 [==============================] - 0s - loss: 2.3504e-05     \n",
      "Epoch 15/20\n",
      "30/30 [==============================] - 0s - loss: 8.5734e-06     \n",
      "Epoch 16/20\n",
      "30/30 [==============================] - 0s - loss: 4.8860e-06     \n",
      "Epoch 17/20\n",
      "30/30 [==============================] - 0s - loss: 2.6279e-06     \n",
      "Epoch 18/20\n",
      "30/30 [==============================] - 0s - loss: 1.3927e-06     \n",
      "Epoch 19/20\n",
      "30/30 [==============================] - 0s - loss: 5.4590e-07     \n",
      "Epoch 20/20\n",
      "30/30 [==============================] - 0s - loss: 2.4704e-07     \n"
     ]
    },
    {
     "data": {
      "text/plain": [
       "<keras.callbacks.History at 0x7f96fd344090>"
      ]
     },
     "execution_count": 85,
     "metadata": {},
     "output_type": "execute_result"
    }
   ],
   "source": [
    "lm.fit(x, y, nb_epoch=20, batch_size=2)"
   ]
  },
  {
   "cell_type": "code",
   "execution_count": 86,
   "metadata": {},
   "outputs": [
    {
     "name": "stdout",
     "output_type": "stream",
     "text": [
      "30/30 [==============================] - 0s\n"
     ]
    },
    {
     "data": {
      "text/plain": [
       "1.3611011695502384e-07"
      ]
     },
     "execution_count": 86,
     "metadata": {},
     "output_type": "execute_result"
    }
   ],
   "source": [
    "lm.evaluate(x,y)"
   ]
  },
  {
   "cell_type": "code",
   "execution_count": 87,
   "metadata": {},
   "outputs": [
    {
     "data": {
      "text/plain": [
       "[array([[ 1.9991],\n",
       "        [ 2.9989]], dtype=float32), array([ 1.0011], dtype=float32)]"
      ]
     },
     "execution_count": 87,
     "metadata": {},
     "output_type": "execute_result"
    }
   ],
   "source": [
    "lm.get_weights()"
   ]
  },
  {
   "cell_type": "code",
   "execution_count": null,
   "metadata": {
    "collapsed": true
   },
   "outputs": [],
   "source": []
  },
  {
   "cell_type": "code",
   "execution_count": null,
   "metadata": {
    "collapsed": true
   },
   "outputs": [],
   "source": []
  }
 ],
 "metadata": {
  "kernelspec": {
   "display_name": "Python 2",
   "language": "python",
   "name": "python2"
  },
  "language_info": {
   "codemirror_mode": {
    "name": "ipython",
    "version": 2
   },
   "file_extension": ".py",
   "mimetype": "text/x-python",
   "name": "python",
   "nbconvert_exporter": "python",
   "pygments_lexer": "ipython2",
   "version": "2.7.13"
  }
 },
 "nbformat": 4,
 "nbformat_minor": 2
}
