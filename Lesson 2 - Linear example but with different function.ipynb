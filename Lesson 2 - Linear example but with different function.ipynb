{
 "cells": [
  {
   "cell_type": "code",
   "execution_count": 208,
   "metadata": {
    "collapsed": true
   },
   "outputs": [],
   "source": [
    "%matplotlib inline\n",
    "import numpy as np\n",
    "from numpy.random import random\n",
    "from matplotlib import pyplot as plt, rcParams, animation, rc\n",
    "from __future__ import print_function, division\n",
    "from ipywidgets import interact, interactive, fixed\n",
    "from ipywidgets.widgets import *\n",
    "rc('animation', html='html5')\n",
    "rcParams['figure.figsize'] = 3,3\n",
    "%precision 4\n",
    "np.set_printoptions(precision=4, linewidth=100)"
   ]
  },
  {
   "cell_type": "code",
   "execution_count": 209,
   "metadata": {
    "collapsed": true
   },
   "outputs": [],
   "source": [
    "#estos son los valores a predecir\n",
    "a = 10\n",
    "b = 15\n",
    "c = 3"
   ]
  },
  {
   "cell_type": "code",
   "execution_count": 210,
   "metadata": {
    "collapsed": true
   },
   "outputs": [],
   "source": [
    "a_guess = 20\n",
    "b_guess = 3\n",
    "c_guess = 12\n",
    "\n",
    "n = 60\n",
    "x = random(n)"
   ]
  },
  {
   "cell_type": "code",
   "execution_count": null,
   "metadata": {
    "collapsed": true
   },
   "outputs": [],
   "source": []
  },
  {
   "cell_type": "code",
   "execution_count": 223,
   "metadata": {
    "collapsed": true
   },
   "outputs": [],
   "source": [
    "def lin(a,b,c,x):\n",
    "    return a*(x**3) + b*x**2 + c"
   ]
  },
  {
   "cell_type": "code",
   "execution_count": 224,
   "metadata": {},
   "outputs": [],
   "source": [
    "y = lin(a,b,c,x)"
   ]
  },
  {
   "cell_type": "code",
   "execution_count": 225,
   "metadata": {},
   "outputs": [],
   "source": [
    "def sse(y,y_pred):\n",
    "    return ((y-y_pred)**2).sum()\n",
    "\n",
    "def loss(y,a,b,c,x):\n",
    "    return sse(y, lin(a,b,c,x))\n",
    "\n",
    "def avg_loss(y,a,b,c,x):\n",
    "    return np.sqrt(loss(y,a,b,c,x)/n)"
   ]
  },
  {
   "cell_type": "code",
   "execution_count": 226,
   "metadata": {},
   "outputs": [
    {
     "data": {
      "text/plain": [
       "array([ 13.5178,   7.1893,   4.6269,  12.3834,  11.0971,  11.8907,  10.6493,   3.2207,  10.1831,\n",
       "         4.6782,  20.3044,  24.5696,   4.8611,   6.3454,   8.7928,  23.255 ,   4.9508,  18.7804,\n",
       "         4.8038,   6.1686,  10.0616,   4.0581,  17.0381,   3.    ,   3.6648,   3.6662,   8.9202,\n",
       "         3.6631,   3.0447,  24.8485,  10.3043,   4.9376,   7.4808,   3.005 ,  13.2154,   7.8069,\n",
       "        12.4957,  20.216 ,   9.9836,  12.0951,   7.4237,   3.1768,  11.9563,   3.5299,  27.4366,\n",
       "         8.6028,   3.4012,  18.0057,   4.0212,   4.3492,   3.2275,  10.1229,   3.0371,   3.2086,\n",
       "         3.3712,  10.6225,   3.0157,  20.5063,   5.1044,   3.6605])"
      ]
     },
     "execution_count": 226,
     "metadata": {},
     "output_type": "execute_result"
    }
   ],
   "source": [
    "y"
   ]
  },
  {
   "cell_type": "code",
   "execution_count": 227,
   "metadata": {},
   "outputs": [
    {
     "data": {
      "text/plain": [
       "7.6568"
      ]
     },
     "execution_count": 227,
     "metadata": {},
     "output_type": "execute_result"
    }
   ],
   "source": [
    "avg_loss(y, a_guess, b_guess, c_guess, x)"
   ]
  },
  {
   "cell_type": "code",
   "execution_count": 228,
   "metadata": {},
   "outputs": [
    {
     "data": {
      "text/plain": [
       "<matplotlib.collections.PathCollection at 0x7ff1a7a78390>"
      ]
     },
     "execution_count": 228,
     "metadata": {},
     "output_type": "execute_result"
    },
    {
     "data": {
      "image/png": "[encoded data removed]",
      "text/plain": [
       "<matplotlib.figure.Figure at 0x7ff1a7b5aa50>"
      ]
     },
     "metadata": {},
     "output_type": "display_data"
    }
   ],
   "source": [
    "plt.scatter(x,y)"
   ]
  },
  {
   "cell_type": "code",
   "execution_count": 234,
   "metadata": {},
   "outputs": [],
   "source": [
    "lr = 0.1\n",
    "def update():\n",
    "    global a_guess, b_guess, c_guess\n",
    "    y_pred = lin(a_guess, b_guess, c_guess, x)\n",
    "    dydc = 2 * (y_pred - y)\n",
    "    dydb = x * dydc\n",
    "    dyda = x**2 * dydc\n",
    "    a_guess -= lr*dyda.mean()\n",
    "    b_guess -= lr*dydb.mean()\n",
    "    c_guess -= lr*dydc.mean()\n",
    "    "
   ]
  },
  {
   "cell_type": "code",
   "execution_count": null,
   "metadata": {},
   "outputs": [],
   "source": []
  },
  {
   "cell_type": "code",
   "execution_count": 239,
   "metadata": {},
   "outputs": [
    {
     "data": {
      "text/html": [
       "<video width=\"500\" height=\"400\" controls autoplay loop>\n",
       "  <source type=\"video/mp4\" src=\"data:video/mp4;base64,AAAAHGZ0eXBNNFYgAAACAGlzb21pc28yYXZjMQAAAAhmcmVlAABFOG1kYXQAAAKuBgX//6rcRem9\n",
       "5tlIt5Ys2CDZI+7veDI2NCAtIGNvcmUgMTQ4IHIyNzQ4IDk3ZWFlZjIgLSBILjI2NC9NUEVHLTQg\n",
       "QVZDIGNvZGVjIC0gQ29weWxlZnQgMjAwMy0yMDE2IC0gaHR0cDovL3d3dy52aWRlb2xhbi5vcmcv\n",
       "eDI2NC5odG1sIC0gb3B0aW9uczogY2FiYWM9MSByZWY9MyBkZWJsb2NrPTE6MDowIGFuYWx5c2U9\n",
       "MHgzOjB4MTEzIG1lPWhleCBzdWJtZT03IHBzeT0xIHBzeV9yZD0xLjAwOjAuMDAgbWl4ZWRfcmVm\n",
       "PTEgbWVfcmFuZ2U9MTYgY2hyb21hX21lPTEgdHJlbGxpcz0xIDh4OGRjdD0xIGNxbT0wIGRlYWR6\n",
       "b25lPTIxLDExIGZhc3RfcHNraXA9MSBjaHJvbWFfcXBfb2Zmc2V0PS0yIHRocmVhZHM9NiBsb29r\n",
       "YWhlYWRfdGhyZWFkcz0xIHNsaWNlZF90aHJlYWRzPTAgbnI9MCBkZWNpbWF0ZT0xIGludGVybGFj\n",
       "ZWQ9MCBibHVyYXlfY29tcGF0PTAgY29uc3RyYWluZWRfaW50cmE9MCBiZnJhbWVzPTMgYl9weXJh\n",
       "bWlkPTIgYl9hZGFwdD0xIGJfYmlhcz0wIGRpcmVjdD0xIHdlaWdodGI9MSBvcGVuX2dvcD0wIHdl\n",
       "aWdodHA9MiBrZXlpbnQ9MjUwIGtleWludF9taW49MTAgc2NlbmVjdXQ9NDAgaW50cmFfcmVmcmVz\n",
       "aD0wIHJjX2xvb2thaGVhZD00MCByYz1jcmYgbWJ0cmVlPTEgY3JmPTIzLjAgcWNvbXA9MC42MCBx\n",
       "cG1pbj0wIHFwbWF4PTY5IHFwc3RlcD00IGlwX3JhdGlvPTEuNDAgYXE9MToxLjAwAIAAAD3jZYiE\n",
       "ABH//veIHzLLafk613IR560urR9Q7kZxXqS9/iAAAAMAAAR1HNHnmrI7bLsAAAWvh/8Fo/yQ57Uc\n",
       "Z0JxEsMm1PZ+CrfS+xZQ1xlUIzOPs6I5uUSrn5CVxj+m3AvU++sYaf2gMQsa/qSJKWemy8THal0F\n",
       "k2zTEM+D+7yFM9G3BwZsmv2oBkdP3Ek12H4JsyGgmCSK+2DlcCvOBhahQaGKRSPHvnu6RpC39R7Y\n",
       "BuOp2zylTkbHlSy/gnoMQP7HjYwZA+CWD0xYcmOLXjk9weCIXMkGtFFUMGr2a+e5PR4RwRGcj0lG\n",
       "9dwxRa0Tq9JQUlS0YAABgtZWzytYENZSIki7xtjwCwWwxx3PJs4vu+8FeYTENCFxzJyp9liUzArP\n",
       "i564K9ii7q3w9ysP9xnqGpcA2gkKH7JbphQoT1pMeQF4nmIeJ8UdiJag5VRRXenrAOnti6tQAAKh\n",
       "mm83K91Nut7eTyMFdFcyIt636F2HgrrtP8vjNDPy9/3cWORQ81F3/PUwRbh8tSyGACNnzm18ZZsy\n",
       "6Axycbw46T0CyOJ1BkK60g6S1KY1mV2DpPSaMmWf/3TYZk7RDVD5YoZf49OAxhjWcKqDk73cqfxu\n",
       "yUqhq8Ffu5WN7kaB7S26pRvt33sWkth35AAtII4P6knnbDqMqoPRrtr7dK6O5uW1V4vqejUxHr9J\n",
       "UCD5PFU8KQgzQxvqB3LwPR1a69m2YWBHt1Iw9v9P96XR0N3DNPbd2HTPAyZ+jNW534EcWd5y6pPq\n",
       "D+5W/KhxaE0+JZlkM+1BCayF70cGRjdzx6/QmTchJkidwY2fHtDJbUGgZnLzrFzr6AAAIH2TN6Cw\n",
       "2g6JE9RkYAbDcwN2YpBFJBwZ8W6gHD6VAIRchBhecevtu8Nz7b6V6A85aWKlTAyKaEzqfBob8sK7\n",
       "wtbg6PSSLjOMwrvVqsW/ApyDU3xcPdjNhT+ZMAEF1wIRGa1iF82+TM2jkC/1FbcqXifKm4JmeUMG\n",
       "HO2JM16jOsgL6LU50WSxg0D62hyTxlBsxY8awV+/h2SXqgnOK51dGzrzfgOu1uHJA5MlUcfHb5Mv\n",
       "i7Doc8osyvS08k/PLzy/gNTFo1qePsLj0cErMpsi9bikkzq154eZ/CFUBufiI2oWmGUcfkm2A2M4\n",
       "wwoLl6d3kMRSkvlmROKT/v/mGWxA3vr6te56B3dNaM6VtNhquHulUkvfziqxfHKTLUGMZKBqdQtC\n",
       "Uj3yk/lWVXf+Ni7HADq6TOAkP2TX4xlYpH4Rn/mT9niJU9sqjlF5oMWO4O78vcvC7blw0NYbVuB9\n",
       "8mWPsO2G3gT5TjuvZOghV9awDjzOlCfdBRENhsOI7WBxi0YSrU48tqZEeBFU8JkhChQOhWrEETvj\n",
       "bLeq5CQGtvw71Nzknh441ZuO0IOCOLj54gvPjNmuYY9gszlowVnPKAG1Eo2s3Apswh9jAzBAqQdS\n",
       "Jh2IqzRvPhXy+P588ZPRgrWUUWXhgkTuZ59nLR5qNh7qR4b6xvKyL76ENv2pbS019uIgnQtS271d\n",
       "uXjfGmcpY6DJQxZqR4yRST5QaAf8PPS8FuWjEZeP6D18Pp7ohncXDWKxVWnKDC84slGYp+qGqC1f\n",
       "/KodZ/58gqA0CZ1CHUilQkWwlGI0fKRFNuQGYAfcieuqcpxZeBo92fYZdgF9J+5Xdw09Di8ojzbT\n",
       "ssFNQ7sXL7i730p0DzhGV/++qk6+r1eH5OGLcqzy5mmR8assifwAf5l+NHfOSoub9pBr1jGBMtI3\n",
       "QIEseQl0loOOH3M6wppev1khqlqunQBDHyGz/7HMCAKRcdk349nU/69aBQvKohRFzZVKnsAUJguG\n",
       "EBmDZlFHbYCkNqd7g6ChdR99RJGhyXB26wNmj0NTdo0XRsd9hTt7nwXjtdgOdCPq91++7QWlf6/i\n",
       "fVAOinCsRrJ5qPgmj3s0dwK3yElh377CT6ya38/ge+LpY2rjzKUsGgjaR0Nz4m1ROEqGbFBHVJ7o\n",
       "BxLnF2HRGn+I+DgVf6Z4LW85gxh87K7fe3/V9gLEtzA8+UrULKKP6Ro2+sHSb7NRKzyY4gYTQiyF\n",
       "RHwr4xTCS802aH/w6dhEdnttChi7HJX+7pI+xOihI8HICOWaAN7sevCP0lr1A6vpsov7SkM6GxV3\n",
       "9fe1Kw45/RGHYqUlPXU0Mi+9lR/k1OY3MgpEh6vgnJB33uuUMLryThJNorpwC42Rew0oafIrkDm0\n",
       "JErBUAxRkfnbGI/nln0Fz1dDPJ7TZ+wxxbiX8MKeiOBcj+VxoRSS1gPZK4fla26TxUO6TMQuZx97\n",
       "HHvDltMe7W4nOqWIBjHCborpHGfy6ATfj1a7HhiAVPoQrpnDBumrFE89U8WNocdxK5sCYCQeFtMP\n",
       "PLkq/Q68SsE3Kv2Tv8eV19mBQ+aNMAJBImgmv4W92iMujPwW9L/FJJ8CeGFUc4G8tlH934KvlXgg\n",
       "CFYE78BuPXpfl+kVUXs6/4YwMh+TlkOVS5mAcw4sWuW0JPHuEyIsDSThe1M6189z9eGpFshFrW/q\n",
       "cbBchlyp+kZBpVihCBS5Kzwf6xmEYl+7w7SEJtM3MPovqWxSGfODmE24HByr2Mu3mazrQ0dvPMVT\n",
       "8ZkfWCDiLm2KmYD4c3ApT4SUGvSdHVY1GF7iRzSeolW0gvry+jXI97D0Rcm6cgGA1Wx4xoXGPb+0\n",
       "bn/w4NQcUWDc3xopj7TcVwLSxycw9pFwVpiD01gT7JcA5knvo9bdNHt3eiz2Lavs4IgLbua4qolB\n",
       "5g2I3evbwmvQmpfnMHfOsATsCNby951FjL42RUdiG4UMBIJnFcsCN5Xnvtas8pTqjWqP2WNdXFf+\n",
       "6GdjpFn3fpvZmvX3oTWmDk1io0M6TGVJOZ9JzIkthkQYvMYKOflfzrusaBFh/M0ZcMK87iowRoXt\n",
       "mgW/rLDjHILq5tZX/M3DOWrk9A3/CE0YrI9N+K8GSqTk2ahawRfL1rEgvfc/1pD88+zLJv34sv8f\n",
       "+4x/x1iHg/T1KZ8Up9ABVi9oBrOflVa7bwlrEJALWAjxivT0i/vPd4qn7VJJrY8JLJFn1NqdBmLi\n",
       "r7nob/eb52Ih/k+w02ZTuSTLGYplGps61ZTYgkhcf8fI9di1R+FTtVbrgZd6GeliChN2B+u77nkp\n",
       "+AYu0hl63bnXTSlOCRz8lpU2EVRCi4d7okrFzuUSXliuiM1btL6WjhGlTpMKnUPsNXF8yEAFJpGR\n",
       "/yuPgSEiTMwcTrR+vZxfC5WNKarcfeANzygx869WHWoJbDBtcHkN2vath8WnxZCs4S4H772KQjBd\n",
       "+x1MeT5gE/r9BPe4JmqPmFQPakSwxH7ZKUrHEduEeJgBrVGVGB7Y5QLf7oJo92Q00MJMyFfuKpn2\n",
       "ezyY6cgafP2rozzUvPSSg4+srPj405FT1gWjQTaY72wmA4QGNeLy796VU3FM86Svsj5Ca/QDrt4y\n",
       "XPu2uhjpAS5NYLmW2DHalZBtPwteFe/GVSGv16RO4EHt+BaoJ0/dR4sGmTB8IqL8n5kbfDlGzr+u\n",
       "MTJVTC0XFJ/7Q/WBzmDWvpGFsi/ZjpQWT96vGzGQRusepKM9qKwWSnUtJM1iJf7sLrgzql/9rCcC\n",
       "LdXAjxsQr9/E35B/5BCHCF+/ElG/HOH0vS/jBvW68DBQlEp/zcZpi1Iw6UxwBB16ylkNBo7LjTxo\n",
       "N+nWenWgm6XjA1zVUjfmckGVDoPNJSWpVc34olw+UzWH8TZz//i3hzgAf89D/aX+FvdczYJt3Ecd\n",
       "a3iANdro7Pn0fwn7T55Wm1nb80/e7J3IxYu2YcPT267Vxa0EmgIzTgUBzMbGralV/gOXix0qMnBL\n",
       "nrrNybtE1Th0xtn6OCOCOYlcYwmmxFEpFqOyzGaCWFo/y015jGjuZbdKPPeNg/lgztIQ2pRHR4sp\n",
       "T88S5/fAV6SZiC2iIM+aKIY5mJVYzT6x4+ER3t5c/Nlh6ITwUxWGypiAb+oSH3mYnpQD/OJUpIoB\n",
       "OdjuOAA12ECecsvDwQ1htp63AOrW6ukqNoAcsraWh7wD2RdXLXvprncNCUo3T0GPvVopm0/Rt3Pc\n",
       "eFUsYsnB9tRJNxyes6wF3K35UzTj0hUg9S01OkNoH2I4JHGhAq5E2hQk2NxYDftHssGDLh0Pz1k5\n",
       "U+tynF1cpRY7aOb8tIMwpQsg3goTnb+RfEw2G+TbUrlRNSwo+pOiL48ouerWwgjFpkxa2g4tI2ql\n",
       "SFAgsYVZliWkj3YTnNw/zdezLyK6FXJpW52e62B1bri6W4WYNS895e7+DiCZ59CxfC2PEwcxEw/i\n",
       "A2AfKow4lQ+1lcq6d4sv4G9b/vZ2/UJFyLmOZR/56LxJXovvEAtpqbhSxn86nWWOexUxG2Or3B//\n",
       "oRusKFlbX+8GJfSW2EyiRps8BiqFsdXRszymUGqeMvUXrfEUH9xMbObyN8rLttfD0GgKqfIkMGvE\n",
       "QXH3iAzCyx4dvsYReUh6s8rYKQjtbfE3YDM/I88j+IIB1dxoDCC2efi82nFocI+HWv/5wbLe0Oiy\n",
       "Hwtw2KjJrc+1jhsUnchqTJT7qej14KFvl/Pq9aI/FUMWxKuaeGw6FDg0pj+fEKPJ4MIqWbKMyNNr\n",
       "ITj3hYhsxIqyXfYWC6k039Sk9ldMixXj+WTWv1Z/w9OYRa46daSBPlrbuPJS8aeuJcpK++TLb7YL\n",
       "H+UwFPvga/Ly6eZ9L3aIxOYK3vtvNwgWVSgqvwBDjjIgDegAF8eSY+X6BEjKI4PbxWkOPuBO9c/F\n",
       "pgnc6c6cAn2xUgtTACERMr1ks4HTPXP+7eZ+ml76b0vODQXJ5ykUwtTohtQBIu7SjlpYEy70oXs9\n",
       "dLrDpjhw3e8Mil/94yLFD/nswbcVhPIv/puJj32y8rRgBi7CVyJNco9UiUU5AfnpdDHm/YuA1HH6\n",
       "p6hASnRug3afQKZANgTtPN61HVH/TbGbZ5p6aXH1dw/WjcLUIjJduThXy4KISvTRrcPBNZd0Qn0b\n",
       "F2qSIv0JAxjokp+wvvCMyHsoIJyj+gZuQBpVmF11XhK5EEB6MyUQZJ8I0C07N55KgSTj5W0qZnjA\n",
       "XukDbrQgquzlXyLz7OWD9DQaLmgu4FUmumbpAD5PEMpqcZmrh00EQhi+Rz8gI/A+2wAxJVhxxau1\n",
       "PFP5LT6pHP65jQMAU5NWM3k6QshTJZDhNw+BRlk3z/jDYIZq4B1vs70kdXfMoRmxf1DpuoeJTGpF\n",
       "64Rdxpf0o1Vgp2wI59wc2dGpgHg8ML0WnhezPi7sK+zeXekQ7jOhGfg8askNrqsrW3u5tofps7DU\n",
       "WhUT6lXixU0sXhC/TF1P/P2QMaN5QgULmQ8jwG1zyLaTuIADMgA/IL2F2ZdGKooR/v7Ap3gr6kC0\n",
       "hoE3i6a3iE+u908oTO6Dw/VZkPE9ChO7EcQ7z7cZGMHhxtQCSHsTteSETIGF39Fyjq443V5po1xd\n",
       "ilg8KLsinNvkSmeYbTHGE8egLkDtC0cT0fP3V4DO55BQpgjQAVsl5m6IZOenlrnafQpUzy2RaUz5\n",
       "wDe/KrwGXISwbAUoiWOJvGZrfWe1C35785bTKIo7rIxRDtYmGuH46ySNaC08zooS2c2GF4XTESEU\n",
       "yiW7bewTWfmt3/kArk34OngAfEGXgrP/bmhO96QFWbfMCRQkcbc3sUFCXmqO7Z/K9nRZRYso0r2c\n",
       "E6jHjXk8qSiuDBqxl8EKMfIZ+xS+33yrTCB9T+6qRN6eaVpkbhG0ZW/oIxnnI4daJ55dpV8T9hw/\n",
       "V0GQytCTvLwq0iC09sGPV7583JhZJUEPOB+NGD/loiC02H9KFvDP85I8sIEEPOAn/6IdzcCVjZjN\n",
       "G16C6bQW9h4y4SduKfBRDvAGc2D1OcTf9E6jD6w10J0naeQ881f0Eh9vhDh/5bZZikv/YgV83l6r\n",
       "dPTMPO0YP/QncO+OX8ZBa8wDhNAtWCut7ZN5H/3huP2feVy+2LKeZv/DFrEWXhqap7G+juRy3mgc\n",
       "XKpw2E4VGCYtKa+2BxWPsDoKy62bpY+eHP1h0WerGxChg0h7kpFSvx2ab6wI+lsnZJJQ40DN4gH6\n",
       "uaOlNjHmuDgqMTX7q4rf7DrqFK0hHWkKFvwFNDjJ+3C4KZYA9r/m/yy6nO9Kn3XaKUptn0Cxnbkr\n",
       "hkqfNgOPNLNtQRoJWZDjP9Vk1O3EmL9hzdmYKtEPgo8xXVynlnXOTbhoV9Tgd/7Bm7QUQiTjISWl\n",
       "KlhWVvv9eXbefwVaNJTI+HYuH194YWEspbe+qhlVfO/XSVI6fPLg9KL0HOi3mfgiwBRyy0ERrhbu\n",
       "YRfsUPhFmCoBnaKKoJomZoyIP8P/dtDtgkvgG9DkCW0fW4fB5GIW2qC3iV5KNbIllTxueJOvLw5+\n",
       "Kh8sg+evj7dAMbq4OHtPp3OpTF+SvqDzt+/OT48sWdOALk2EzLj48bi+y8RlipzMZp2HjjvCBHSp\n",
       "khGKPcyUkRvORnUXfPmB3fTRaXAvTnJyzDZ/xV4SdSAu/1JqhbKPl1LR2B8endiOA7ivsKwdEXeh\n",
       "FDjVHaXCJLJCLT+SPwOVvzvIBVcghKVrqtSSbEJyzcZ/OJvG2Nn1moUcQQAGt1Sg81dpQbO49UT5\n",
       "JV6Q1kZRWRgc4pQwyYJQ7H+FwegIHq4xi+kpHmObSkMjQhjlQnHGsBCFTb5ydfISn5C5ojhICISL\n",
       "pb5m40KTTjJGFSx8w0/yEKNsHWjR705kTsFVbK/0iMjNeBKeH8SbAMIzURr6AHbvcicn39vy33Hx\n",
       "jS0SsXWnED2pBvX2y2TXzddJPxLrjj540wZdGtibmP9TQOZTbxR9UfdmbohITpJ38Vt1yNcYCXyw\n",
       "No7+cQjOhUOsRmI/9o5/IHRn5cCUf/VX7Xl/Km1n2ZLlKPNrKdk0K8/IgrlKbIHIbAH9xxVKEUHf\n",
       "zlfHYtrXnX4NbO+z7nj20jheqYPr7hoVRfFQCKObMVyOUnDOsRbtLvxSyw5xOxdCPS7iXcNjQ/Hr\n",
       "Z2SJCGCfS/PVXh7uQ0IF+L6HHlUl/jgB0FxaaiUohSOlwO9HGzPVzkkcD5RStC9PDTD8u3XRm8FE\n",
       "EgxD+RJMBE6AXgKYMbM6WqIJ9ltMLmXGd0Xpz/aUg7mDvGpYOqoPoR6YDJG/xnVPmelMCpMx34EB\n",
       "JOfuYCxYRV9MIqrIekeEOsDv/ZOll2aaELkdlEw83kdkbhi1C7yK89IwS+N7Sw4BSg8RO9x3L4ia\n",
       "V8QRwF5ilmu9igN57zKr+owPuaJzV50O/+bxcuKjLw8pC6OlJpmknVWNL+7soA52sbxvAaIy89D5\n",
       "tirqh+WQ4+IduNTyBAIsTegzkZQmQttSCos7kavFYKEhkKgaeQXa4wuxTLBYIFQvzsqgECv7X0+m\n",
       "0H/WhNUbkzUamFubdwkHd6wHprsNkU1KR/oNOjKRvxVBLEnf2u3TzFx5gCykLtQxXZGLDA60lHTh\n",
       "nXowtpzpzSk/fxqKYtuNWXOo/bM4ltFrQVA2NrB/l+0QfaG+C4PhcYjwJ7RIOcR4pzODhgBZnWSn\n",
       "z+rdUXEda/fqOtmbCIHdhods2BE6miCoBORSDZEmqu7muygE2AtO6oYEKQOHvW2qmS/z8wLQqkS7\n",
       "2t/RmH2Hhb/dCo0/9dkdYPelmsC9yVnGSAhOonX151/BoGT1JuSVFYIXe5GX2f2qMu0VJ0TUoOr9\n",
       "eDh4jXkyhOGxPtGLyLxjw3Oqa8HRGAzv0nt7L6loSlwggMCmLw/gsWNFNRJURZiCBaPgzg2qRvqc\n",
       "p+m+G/HdTq/w4lv2XIfVHHql+Rdxjn8ZVrIWSAajWi1H2BWbhEAKUG/MM8FAewaEbcMsfi9RfWVx\n",
       "dI/hEHijbRrhETFKARCYvDOZhbRqm3XMrfwPCFAL37lKzkripcxB8SXD4ln2Y3srzKUvwqAeKSB/\n",
       "SuTysTUhGnUVvsUj/1CKklE28OTtGnKzioLysv7xOPecw4HTeVkU9IWweqTCpKGz3lHIBZiQif9J\n",
       "hBxrE0urOm9FUuvTw1c/z+4QMTBLUaYwejYloro3NXMOuxdcSatjwCLpxd42wPlInQsoHxN3GAKN\n",
       "/R0qkv/I/spEMJxJqcQxJuatPbvek4y29LD1PjaOTKRlyLRdQtLcIVDTfvgaKWNRqsAuXYFM/+v2\n",
       "OqaPix0M7otkNCGqrCwlhmHSUJWg+ZkdeMK9AqkFi1z5usdRJDdNBZ3h3XtqxFlN259K44Y0ilrH\n",
       "f+WFAz+BM4AHvbZiLIfDFjwRTCZJkYhEvRjuLNQJ/EV9lh1U+FHPrTSQq26woQetRfL1duKR07kw\n",
       "MqQpkIjPRbP+VlzwrHG2agKmuLGRqHKYw1Y5zTNvXYWUuBl3ZMF5h7ef6OulgPw0+r6uCrj+VFhu\n",
       "PMSNYLvcweKx7Vs9lXixBTrpQw39lPy4r6O9r10gEA6YZmuGD7N2QzUTnkWXWJpD/EdI0rOnB83T\n",
       "qgc+5oGBA0rI8fBplVccqHOPbb9hrO8//K+Heg87GxR0k3KqpsfnucneA6IsJOqInYwfpbPtgrwE\n",
       "b88EFXbY433Bla4wR2ala5Ry+G6Qvn7G8WvtsbgwfEojrm6LmZnwpln6znOp9iPXRKCpqVHXVSP9\n",
       "v8xD0scZaiNbr53sjevAqcqLNCUhHwBOuYNh5lJcpOeKaZ5klcjYh///DtZ/F9BGZQiFn+g8rL/S\n",
       "M8qyzbFtLySUhifOMZC3Llem+QCuJjomeo9NIthAmDb3+tbHldA+cMn2MiAwTGj8bZNoVJSzvQrD\n",
       "f59yZLqeIDnxdvYfELexKnH+53Uyx7hfV39E7F3I7A8N/+ZZxG9IjaYytprOQLjEwOWGJlDyPhG/\n",
       "c4dYzfs7Ac2TRcprNdVVEoBchapTFnZp0J4DG3yNqNjk2hvuPSOlq8vv165Sqxk6wC5oYBrJtV15\n",
       "LRXkSrIFMToH7W/6qcwtednLoD6oyAofvSUGoOgLAWJlarIG/2pCj9PjswQufAOwMCl4wzXCm9Vp\n",
       "58FdMbtk9ZTNA4iTpaxMq5ZLfvRatd+JfQc+06HAhlaNldzUrwVd9eZxFnEbAys9qen3eeGJTmmn\n",
       "zCs+qYlgJb2vbCeSBDO51FPvH9nuYsUFJtrXdP6Upn+34O61gRTr+qOfYVotVLe0zDrm25zg45aP\n",
       "a9QPLSx4sECeonj+gp+fpgk2SSZbLESs+IJ7bmcLgBnz5EBYJDnv8Opfb0GrIl++ZKU432k33J4N\n",
       "MHS9BwJ6pQXrqSF7QdA/dmdKMbTkX0QBba+Vb/z8AyIVp0f6Znj5ghIlswc7+fhEDMyreJfoxMwN\n",
       "dRyDDhjJBXBkAUXDJVsit5M1CjB/DO57JD+fs5XwIwri+gIPWBJCbyHWpq1np6suLDCF9R0hjKh9\n",
       "Fzd26M643BNvq/X3CThQs8xQbnw9A0XPrSD35zDQE76TgelJSg6knmeuxijgwW39/15UXRbEXYIi\n",
       "miwdP1eJ6dbWzgIK6xvleW6blDLlUdxXQ7fKlF3CFqCOiaopzkue6bndmL+Fn/e4NCLOw3Ns6axv\n",
       "PEemA4/J3AVA7Wn9ccKuVNM1aaBv8X6CRb342r2ipoJt9YCyD+p39F0+N9rIvT0xJvEz1f3k3Z/W\n",
       "C8/089V5uqJl5IWT6NQsksSwUbEe4aBbs2r2kdjiK7Cb3b3j8AN2CXKi1DVCtqcAyJ/hBcsFBjze\n",
       "Vs5bCfKN3XpIPBd/pkYshGF21dsMk7+PMr+AGUKYOr023oULEJIpCi8Uxi6hrlKp52JsrTSc5lNh\n",
       "L4v2RY7ToM1zSz6Ndto1ZiBRUCC5RP2fd6dZEHNo5ZOwVWYU9+eKWo8WNF4VsuIK+fHLsfhaKwKY\n",
       "8Z4Swkq6e2OtK+OZQPMT6L/9CL5+9NMp9jNrx7wZ+JMIp2Yyt4XDwDWWWdZDFfE0JOqhjg5iCSzu\n",
       "Ed/09NB9o0xrEX2NyGM++3I2oppChmY5dMyrAgrKmNuoU8qLFTwLQSpoCNDy1Ox/XhiNXh0H92US\n",
       "wSi4MI0D7q/t4CDM/euA+7DpLa9cjzVfQ17w6cR036ArvMf4oIqfKuw3aW185cvQKpDxUBVdCaeg\n",
       "LWbFwjagzlSrQZ5DVWRHhZZep06HgC95RMm80h+dwBitT3MlPnCznzTY9yu4UOKodHNVyJUc6Pmy\n",
       "zT3I1NqqmdjFkh0tIXwOZA1abJC1fIt92Pt1MxCILKsia84NPAkS3YX/jfHtqvZKynaHibgdpPKz\n",
       "QoVZZ4/2shJidw20XWT7+vOhpMBQ3EvNVm/fSUFTqEf5Ttsw5MtfqyK2Mlfj1y3EaQJGMvp89AYT\n",
       "QkHoJCMvzW7Ip5PTQFtgicKHw565/D6ya8ZM8vQuM7M2gXvMp+0dbFrIc+EGGrmq5zRzpzs8OedE\n",
       "Tgq+wefRGf70jA9JltC7gemHv0qjkvT5A2e74NBvaolPGS2wVAxrejDxrmgCmvfAkPmQjMFItNxG\n",
       "yWR0K8jOjrFkwGW4E4SNcGPeEHNahiijm27JxwZur7DZBIkoYPQzCcTk6kk5ZX9h3gj9fztsC+5b\n",
       "riUZp7TpCeQdpF+bghc93AJ1Ou3HRHVnH2lGukop0DXdOZqN+JQ5uPnZjFDLbID3SYeH9Eumj6Mq\n",
       "m4kzgqKXMX/ikAFEiAhQR9Reyzbk6ID9FV497XXXGpjb2uimHewfvF7+Qro2fj8kOnVYHsGCE7QE\n",
       "+wLpbeIFHQC5c0wiLgInXYUvaOTnoGyCXsPHlDYUEGWMoNSjUIa/xkL/q6KF5kLFvPfAlGUlRh+I\n",
       "J7DkzB1BLY0ckq2ekKVAjy15k/ig1D0omQW/fwHRH99oFI4ByRFGsL4C7zR3qN6Q0ikgP6afvl8A\n",
       "6B/9ORLfpasahS4HxEtowsvQ06zgGgy8iTcp/iSnxXEwmWvjJwPLeqNLTKj6Jt10drZHqrvKdF3Z\n",
       "iLk8SFvQ5N2+BWjjrncuXdngX0z61aVZfwNnwIDug0Ny4KxI5N5I/sFRnXLOkEG95Tn1U2SFjWGj\n",
       "PPnRcNUJPd6rx4Mral54rDVgAZxJnWJXU94LfAAvy6f5zHmdnOEgQ0BgOc4Vb9PoTPcraAbYOr1R\n",
       "N3OztL56IkB6ZDZtOoi+lSRIWKrKf8qdrQ+HObYRCXGtlmhNqGKaguiRneoazw9A46oehQfS/nVP\n",
       "ZR6sFk9bolsBcXx+El1Ry7r4v+mEIS76SfvhTnrAyQ42FT6arq/WAMQ0YVt6oRpPwcDM/xui5q20\n",
       "XZhEYmKfeAjRA3IdDrYI4S95+gNlBm2JnVMpihIf3P3tqGu344q62XU8J0FgoWCc9/V7GApRnyZG\n",
       "BzODKj3eHfdxlmwG0Tr3hYoBd+UceYvCwkr8ZSahA6uCldXyP65Q6I1/Il002GV4mU4fTmucXX4O\n",
       "IHJPklKM38HYUHJCUcXFgk/ROUeLtU7TklbkIgw+rprrDcWiOwf5ofi5eC4dd4ijs06Eu/0RDNhB\n",
       "sZv7RR5+3s7DXnr/co7wUFQY4/DUbF7ZgC9Kx6pC9TX29rHITalFHVeBuKDNZQMl1eerXrMLDN4g\n",
       "Wo+mKvnCoVf6dQXki6Ou7pqAzUhPZplIAk1kWDIo/9yIuWO0kXTCmocx9mYJatdlXIELPdLLgOkJ\n",
       "xFC0HQCCDpxZd4mzjrww+G4u15EJzlOfWp1kOk8b9TQIIoC1FuHn2mBoHbtV3ZlJxK/vkvEUPfFS\n",
       "FIms8rNQbDz/6nWBrTW8Na++XxGdJ+IK/NRzQQOyLB6B7PSlns8q79Vhq67UyVfTbsrbgJn1rov5\n",
       "sF/9p1yMBBLQDWElHOoUfK15ksgewAL8pBUxgD30GCuDyxvcxdHrGx4PQCEgie6BazL811l3yb0X\n",
       "tUDvb3jeGv1uJjez3Cnrnyq4khKnI/QErRN9JJMQqu3ApVF8cAli6ALKXGSyziHEvsC10dXegHdv\n",
       "yNT0hxTNVhr7XQvyaYxWDxAxZd1m6MWxjlY+Jfb4dWhxB+aRA83RwfCDSrWrTYQBUHLpTZpG3yYL\n",
       "yzyQJGFDj2vTKRN0rZChLLvp5mh8xL0qdQBFuTg2ItSeQSpncSfW664kHs1L+CLLFYCUh0btqK6E\n",
       "dk7gxzoa0GSbhW4U1FKx0zEpye12FoFNKGgOHVJ3KRG44BymK8wPDRbj27/I9jB8K3la3zEjoJGM\n",
       "7JFWViALBjQPhQ3umBk1syUn7IlIvhRm87XJx68Y7aqwYSxEMIZBs1OFX7gAvUHq5nTctRJQAIuY\n",
       "UYvwE1UDf/x8kp5DRkMAo2p13TnUQcXvVJ7oydtEAod1a/DUA6orxjrCDrysmdUS2MZiq5DV9Gtz\n",
       "zKE5hNp5B5KJio8S/qkcTNecKFPxo9ByFtYpFT5XGSnHZitLaTwj+NFwS1LaWXQdDrU9T7xUH9z1\n",
       "TTcDYfVuvs4XhUqK5THUGDGwOnMg446QL542e6E82pLP+wgZcP/DLnXWr8tifma73XKG6dqFMs7y\n",
       "+TP7DJBQmiiIxwh5V//cs/73FIf7JSxnYgpsLxfrZBSHCm5QunIAKi4iufwCIGDWRivvjaQ/Xm6v\n",
       "a4knnIXnKdErSRoBX7QzqEinLtGTinhXOr/m6h8Depp/LM4+T9XDwX0Gl8d+X3DUBHoIdn9Mtn1K\n",
       "RuMeKkB9LiAiwrIBFTGOuhlCoLipyFXMIEkH+mpgdkXcCjGfFq1Uo89LwJk3g+m9nnVX1GOT1qXf\n",
       "19UC3WaQgq/s9zvdfJZCVjpJB6PkaW/qMYYepqTg4S9knBnqcDd75/E9GoopRKfC6v4ywX701Ks2\n",
       "rZ09HlloNmjebY2BLJYEeXaV90e5QZ8j2+ZulmJC2Qj6lkFBZZ9jMfyK9erRgMGvodm6s3uZMgip\n",
       "h8bM/JSJyhwZlJG+nGzvCPXq8svsbJ1AX++oEkAK3vK+9e1oyLsZ4ui2EsQGxfW29aMMmHCu4y62\n",
       "eVC64iKJg8KPwuAW5ha4v18AcdflNrUiPwjoC7XB3S0BagNqaJJeHc/8q6nJU3tGzR0UXA6T4UCN\n",
       "P+uCfvh9m5ucprwQpwg6sXTNI8k88B98+BZzH9/3mNcjZY2+ovxA4PzY6Iw/BPkNxsJpxPaJteSD\n",
       "tbppg4yWNdXr9Gg4XvU/myH9I8rwacrmu1kt3FA9bbTWgpmFVYQTB1ym7TuofIwLuKAJ2d2bfPfA\n",
       "5VmsuV9ndx8sYaA/qAOYeOuJ0+CzqX2PO1Fe0TzBuPncfsfitOyPKtk73Q4tbsjyGbx+Innmdlfo\n",
       "hQhKIWZcR7HsaoEEdCIL6EmKvy3hDfubR2qxqRR/60H9FsjayC5wvggDJ0XRAk94aFD2KMITaR7f\n",
       "fGH+wAc/b0y+590vKF3E5QLN9SGwWa33kwNiDWTwGcVTpk46SnRpAmx1E5EFKNfV3ZD8GsaXpYMI\n",
       "gwdQllLmd0ti08GxHVJ2NNJpiy6edTegDe+xvPap+GV0lcqb2lVzwZJxdQKFiInznUL2v1JmqhPv\n",
       "53T9jfXdejvwSuroRw47T62KBkxmTV4szCc/wBOAPcA7URGmt3+Y94x5gBxXpK4jb/uGsiWlcDk+\n",
       "Q5xUvOSFmfdVlcDGbb7ENa/YoNBweqskOFEIjInvDoU1Wsbj5vdELANs4McVeWFBgRdeWSk6jtuW\n",
       "JFtgDBQ8z7egYgblF+allrTpSZjWkgevhyyGARbcz2dRev52YPaQVEwvk6ipFnWE+HdVr4rPEJlW\n",
       "jKfCI/WJ9bTr98dfRldi3TvDS1jFu8raFEJu1BdO02KF1Nx1O8fJHCZp/uCEzqFUEr9GzPQg66UY\n",
       "8O3bVZCpANzR+4WdZHb8D7BADh6nv4sGRnxUzcc7i4oIlh48clfP9Jd7Gd/doEqLY5c62Z6XytdD\n",
       "2I16ZlQvE5LU8cggsgHvdg+jHiWD1arr95k+RA7rUAOO3D2BXJnbve5tUYvhG8BeCGrvkBcTAEyc\n",
       "GMhZh800Rz5J4eUaeIsJRC+dB/3vdFdNbm+pSZKuSAobiO+79+bBGtY8eBSqracfR6MRY3ZSMeBI\n",
       "4LUnuDEhKUDy0/w1U/QZyOQrrrTqIz/G7hcReqnsPpfL/KNczpsjkSafEykVrhYvMaZPSYCbX2Rg\n",
       "TnVMUwyTNh4Vrsxg3mW5rNb6RTrqJEURxNcMp+Kw7LnaB1SGxGH2/mEbHmAT53E/+rTh6B8H2tjr\n",
       "eyNuLhm2mGXQnkX73Yq4EYecdG4dAhFJCcnWEa7+pyAjT6eveywVx0+GXgx6M4OUL8qncLkpJY4/\n",
       "zq8pYdXMTIDBD/YpqBCwQnzNsvW/gLH/Ll1UQTq9M/xUMhDJGHEgWAhOZMs3OTMblRLc8FKTZcvr\n",
       "SyU/dIOXPKtBTneJfhvpgZ58wgX4SMmRzySfiXZ3veZcWjr/FvnrWscg0Rr93IjfMt+NLXWFD7Fa\n",
       "d+YMXK5cYH7TO6g4LOvbTaQWRE7RtVex1LgQfKvFPuf81R49gj8ZjGYe/R0PRfOPfJ+Hd3C5tB0U\n",
       "6kirN2vziw4ME3WBz8gHjt7LaUiANE7T83HuSBqTya57/rCJm6ewULiPUl2J/jal8+IMAtpapUNH\n",
       "RsLAYN4keyZw9ZhoYiJhSQHNY6c22lNpYspwwcofe7d7OnmverLev656xEupcZMQH6ujtG7IogU4\n",
       "rjaQHayc/2ifxuCtFCmZSxvFh8mxULUgx7Ik/Ywsq6nvyu5eOz124YKM1Iys1uIn1hiakN1NbA4E\n",
       "GULh+pClJCKQZI8objsbXDO2qMMwxDlvW/ZIsBWzN3g9x584YsMMTOopXlFJEiFF/Ht/g0CExi3w\n",
       "/56hsjYXWv0tpgL36mBsb1jlMW4pImN3cYLhhC6A0DJRKKqbxPnM+ZRWL6RKUKoNADCQ8xywIqNz\n",
       "1xHnVAsBDJBK4VRsxw1EDbiTyI9xbBy34T9xScXB2Awq9EEmWxlvMyDDujY1Xp49VH3EFa9vEeMo\n",
       "Th2qK20KF1z5ME9u/1NMZL5+cjhajCyF6HAEcOwBbpwp8WqGzKltbcrSIhCnhUbrwNEHlQhx9aI3\n",
       "xtoONx16S+0/lnCtnrJ4TYKPVJ8gYq514DTQsdqlPiHLM7ezuIG50Wwb4ebhQptSNtyY1+vtSPDj\n",
       "GxyEoD5nsqsbH0sO4ou7eIBMDpZBuxL0zwB7iKkY0I18IEmfIE+eT6G1nmZ15qm8OFSMa8eM5wVT\n",
       "Q1zLOIgDEFmo4iRf8Kv3HvxlLZRhy2Fs8mSgm1XIz93q6KZBNPqR8tdfLZrCJXrt0i6TwXck0mJH\n",
       "12leTr+mUPvp2E4l7xYOoM4ZXleSyysg44PyRgARmOp4bUDVHegBsscytqZ4nvcetdx5viy/hMNH\n",
       "td623USQm98OdFx3Rrxg5z8BW57fqm8w73qwZTl89GzRk9GpDKP/bkxPEyYMiu19mv+K/xbmGY81\n",
       "/dW6pERFWYXOQUBM8ruWhDLwk5k6xHdpQTMOHNQeafCI7gMWqAoApCbD5ow3svS4D1flyaBpk1pA\n",
       "zD5wVxVxW6ZFxnz2L8WyhZIiRjJIgXKqU+gHNEDIxvuF95CWlX38j/23Uq577l6zk0iqw2OuTXUP\n",
       "ozHXLuoHyhF8zgXqkYi8P4V/I7dYH47QJjlL4Z7fPtarUJ49sTgk+ATmIeEf5sJQIEPRH7y2bBP0\n",
       "1TKikqUL+o9HC0LiU29A6/DrJLcDg7MmP2oxr44rk4l2ymft/5Xfsk96cFQOBL9r5pr0PU10ik5Q\n",
       "CqbGw1cjYsLeglkil7VnSfwxZgVurkmsDzsoZhyajUq+YrPjaN5wEA12cpJpYeA9R2emCbSqCyRY\n",
       "rzbbex7b3JjBWbj/c790LPcic5pVOqqcbSpwvE04cw8DHE2iiRcUzFheWm75U9K8ROVgfAPPlT0W\n",
       "HHZnnRmW/CKJ0ID0j5G0aycwJ/en+bO/VBSzMGsWU1XB23MLXtyZaMIbsZtrt9hWnbtC+zpMjuKJ\n",
       "bFkoLYUTzFvU7tb1lhWrmYOgik9jgHLJ6yjPX2fB8htFZbd5DJn+7DLbtcmWozlceQ1WqmRUilA3\n",
       "LJPhBKLjPSicViRyAQrPGbf+CAYse8brwUP7/rGOV8uPXIxY9Trq+Zxb+ITzTw2PgDbvONf5l53d\n",
       "Zqwgj1wc8brlbCqByiYx/v6BAxDcUCaoJbdozFJ0SG7M/WeASdbeucYGlxvQyZD6iNN7CRv1f5Fw\n",
       "QSsyEMLz/m1BVia0MS6WOLyV7J/N5AtXIg9u3IoDZHjOKR6farREZg+pieWqSn+IYxp4asgU9ZiC\n",
       "JcaRQMy2d6LOq9nWbZEufxOQjscA3RKX0wE4Fzld4BPMqYP+oX7WHYm7BK3iFyDMNdt7T+T5rjfm\n",
       "/kUoUJ+dE7dbKiIeHsTVVExeXEIrTghRDEDF5fcjlLzqfguTfUT1FsMCchYHrzX0WtM/m8NcXEs/\n",
       "4A3pGKuJpfxPbk0HZkpJHO7fVjSontDNDUDe2jui3LN0hk/VLQ8GeH7N/hZow9y63mZ1hlPC3olq\n",
       "BXPA0sMa4uDbigOlwNOgwBfLCh2nNM4bz+CbWOarLSgk6rkBMRyBirbDLQ2p9eRN0uFdrz9dBGZB\n",
       "nAcnq4Kj8GGn/yPJ5fJo+o/wATDjTytFcIL7xj/JohY2WC55aztuBUEPremep9PYoT45m+7UxiSA\n",
       "J5fMTpybHkWHPEhekIHqa8eE5gRcFAO/hfcBczVcYjJgCu5mJEx4132m0oGqMXIbWnAhxQT/1w0H\n",
       "1fJX22jaehmetg1PJmis23hMcQYfn9HezgVyUJd1VAASgPI/xTMueRY4P/U8gveY90dhuXQUuVzU\n",
       "IaQ4XwXgMny541GRcR1nqZL9NIUbruAeGRTtlte8DeUfsLqLHZEajOQAN9QivMymPRuXrT1aaRva\n",
       "IgajbrNF7BJfeAKeVbebmSJUJYDvijYVJkeiFybZIaIJaxmH7s+r9ne2q8/0/tbAVW8BWx0PalL2\n",
       "jEpVmTmS/2cvn9bJvsTwkwYXFSZ3y1WakgF9BLdpqsgsxUWyk05YWTMB6hVbZPMSajK3dIuUNsB4\n",
       "RpPq0Y+epD6s4eEbbsD9wH0m0OYXKJIJU9f8B2AMKJHa6LiI7PoxhvF9lIfp4flabfyGpa0S0R9M\n",
       "wH5HgmhihPwpW6aq3PKedKqulvuJm+RHeKZrn5MGm+7O9sUBj8ak61GTZYfaLUfw0KkN9YNFU17c\n",
       "d3DLv4Jd8gQd1vo6Hf7qhw0FHcShqkxVjQySAf+Rr9GnrUyDwBZ9pZgfkp8st8njsEhR2BrvYpI0\n",
       "ifi52X62c+lkyni4rbdqlPoXnEuEhVr4RCME7dvVpq8Ok/Cl0+DKxmBtkJZkJYw+SUxbxfGgqqn9\n",
       "CfuvZegiFVmnMQ7ZhEfJboA8N6K65ho7waAQJ/T4CNYnbeTW4cAuoi/feYxnOjhIMJTF9lgYwEOB\n",
       "G2TQtViD0YlmmhfWcyWIh6qBLzdhFb+8BIWQLoB8otXRzbEHjj4zXPcxqfcuaCZUbeMVqxNFORIw\n",
       "S1X3NjlzgNvdZVgay9Y3tDk//kBOli/3bT6cHkcqIEnKRTH3RPeCdWIIM1G5GxjrU2BRtcXBGkVk\n",
       "M/1xwPEGJhES3BOUazs8qX1hEVSXXCPtOqTMs4DMtA2kLUh5KUfegAbjiyrwCMaHoxazSPnuTdNO\n",
       "AF41N0y31L1NdsVUd9rn0tchcJCXOU69Vk07zKfR9QpL8wxPR8InYT6pF6Gw61JrSuG0GWYIsm4a\n",
       "OfzMO1Lx1veVyrhKNfMO8/qy9xWRbnYG0BzsCT5Dzmuzh/HRXh6ODy3wSniIzER9GCo0FSnyChWO\n",
       "aV9nv8vXmU1kkYnTozTF3haV/H8SBmDnrlkP+R17K5nA4hRAY1X9zb5uPKCcHLigrln5fNlCdVKk\n",
       "WUrVmR6lETmGKGlhdN6i9DMgu+qVCwlB23YRny3/vuej2L5Xnr5TJGyfxp4+tnuqxNWYPrUFgGrq\n",
       "TDVdTPExSrsjVxPgHROTRAjhkwjK0SuR0sQAeFgGVL7RbR5NOqoyWPUpH5BNdrfirfqvPxZ6Hs4M\n",
       "a0FDK8aMC68EB9Koa/e+YTIi1sI66lg9YNVxx1F+eH5rAiHzFVUh983bpr/KaNc1LYTAuVEk6hUw\n",
       "pXIVIfl/mZRGHn+dGwixr7ngBGtK6m6H6ZxKowwD+QF7+C35HXSnC6mE/knXzeWW4wODPFi5YDRs\n",
       "cOl6PQj35BUIk1KWV+v7dJQsLBITPij2/l0d8daVNA4uISdp5AYuHGLOA4RPP5f/L8XMZqHlDMHE\n",
       "XXsyzqKE8FBUKIJc02y+q9WC+6Hr0N4v8T7UQtKvF9ieFIH85+6c4SvVjWS1fyY08weeuqW7A6/9\n",
       "5BKgXLQm2uYUy343nTZkwQfqgjo8dQKqw79K3t9iwQ2lyJ2PEeP39gE6LUvqYv1hEprGL9/kPPI5\n",
       "t88Caj49roicH23wPd0Zge41Utzmvie5n+zv2o78I86WVAD111KshLHpmcyo57cybbfJCaKntjlp\n",
       "nqoiyNQiQVMI4t35KArY5Nmr5Vk8FTNOcyPISWfphglCrhiewKPkSkyir5CIL47z9hR5p+nYj4Ti\n",
       "1eSNMzZbHHLSEhWTNwTDWrS2zhcO8F4TkJX8qjj2mI87ZvY4sw8v3yMaSxXT4Hh87auG9j4zot4c\n",
       "MOK3gDVW45nQRIeZ2qy021qrqeORN7fvdy+X/HvzMxRgrIJwRDptGU976kiMuJyX1m+wivxVJFWD\n",
       "eERWf/3V8Aw3e59xdVE8pVShyDBg+UrlyC9I6Sn4t0fKCJBYtTfQYGi6tbf/soDpHY8vboNJ9LXo\n",
       "RtKig/vowyynmrOuQn8Hi4pmV7B8rmxNL+vRr1DwoyA2nsNnxgvZZ7UjajeI7l8SDm1Wsg1Hxon/\n",
       "oFkVIrChXjLHT7CSX1r2YEeJKgW5YbGEVRHThtsB4D09kmeOnfFYw6qH992IFPdf1Bf5+SiOY+SF\n",
       "0/8DInBX0pRmunXJfCHdQ90WpVWSrXd1GGXGmYazbxF2kZI46RCDMmihUSjlhRJZDAyLETFK9fNn\n",
       "2BfCmyA2XE5xXE+298Te4GUtpsoyyexy5CxS2g8aJ9HDlo1pwH4V/9fga5pEHpiZe/hJ0v99xIpV\n",
       "wvdbKl4WUH16WX3QKCOBDsXck89NdOuzEvUovy/ILsB7cEpnAncNGK8lYiCI8lm2qHg7Aa+SeXrA\n",
       "kIhajeEv/nkFW+vLIKSBz18h5WN9cBXjWNqExcbkJIP0PUblqMRfOPfsK3ocs/BAl+QFbjN5T7jl\n",
       "6H07G1ZjOz5EVZciB5+XTja5Mkec4o4tdAfWeCqbGnqgE6h6aL50RepqM9ZgdSe1ehPJJFhvTcdO\n",
       "BVMuy3Rb4UEtZ08JJ3BbvCjQBV/BGbeSVL3DvsV092tZfiv0PZNpzWr5JhWDNbdA63cL7i0jzLsP\n",
       "Zi0D2AMes/RP7i5GacaAPOKCkWwhWRzrt7KQVtMiPCij7X/DPAafPLTTFg0JauBiE4kH6pvmgbpM\n",
       "tFhdbwYWeqNhuVY00EWriXo2TCD02x0XQwNzmWNP7EtZJjrxJGrvvRvF9jSEMvP9Pj9J++fTVQqm\n",
       "t0CvLnXziUmch+K2scgMkBJKXMkrsEQoZDKhumP1eOfe+da5FGH5iyxgewqVq25E6+j31K6V/8zY\n",
       "CXPx7pQjcbYTHwtCavqs2oK3c/7xWUW7cOswFEmMq6hq0jI/D+J7TllRFFM0Jrl5kh/Oz2NR122t\n",
       "kPG5ZQyWM/Me3L3W6rjYkj61kmhPv+2R05F1x2u/6RqFVKJQs4bPZj7aexCSUSzbwV7IAftN8zXP\n",
       "Nub8d7vcCTV7MOGi1KnghqJBP6Wj3Hs/1+4AjZG3+MHfIllizXS5LlxXesCyyr9miPv+hWD52oH5\n",
       "WeYY1omezynWZGnKPEcvqJru3Z1J8MX6sEsuOXDHPKcMfmTGwBfxUWGlT5QkLQCbRzcs6MnwQCr0\n",
       "1ypZKpyAfM5WJ021gcJlTIDacCMm//+WRSk6vqkZHr6iwyDJxAi3jwzoeXUWSZcvhHLRwavWBC41\n",
       "6Vs7m/dJe1CibPnMrM7Jy4fRXCrNg1wR+Y1OWOF3ptxuat2az86V0lwK8vlNXWH5zB+MLKsZYwqj\n",
       "MSz9OMOhhCgc3tnu11O1wa42ctKuZgjoSfoGWb/HMEdSQqjOIgTabL60eemx3iYRIvPxRose9RQ5\n",
       "0a663QtNZAygvjI68T/mPOLYej7MudFbKKVM3tpgHTbLpWcJn6FSmN/NN4f+4Bd1Rbx+aFJf1GBA\n",
       "SdF/j5G4iJukPOy0NIK+8K8jpNj4szEcXJ8xFDZpjkDaKrfrucjJS2CPWhiUDMyefsiF5XdAqS3i\n",
       "cRnYY0rifmhalqTtzM/vNBbnsvmd9EGbB8odyGZGoCN2fVLb6pifmevK2Dw2+xc4qbQOmwfwfepr\n",
       "5LY25LBgBQl/ZOnAPnTzB5xH/TZJ4tK4FKUc+NcB8XHa6rTJzw4nR0sTR99MZ64Z3FXpjTrXowvB\n",
       "C5DQTLs3wX67MayIWg9GxDccMDuob4mIT+YkEMEe+BYTYtrsq1I4435SMbdxEXL0zGc3C+L8yY+w\n",
       "/miXRSBU51H0oy+Gs+tjUPbyQ5QVksE08bWsDCft02wQB8eiO57MklMj5O/cHvUs2WwRWtuYdioA\n",
       "BK4g+vDEyNks+eMKc9O2OL3638uVhgS7fnCpJaL1NWClX+mjMXMvhYIL6SNisz70jVCSrbe9k745\n",
       "w5A2bhBVxIcr3G0sq966MP5bShUEM9/7BtGjgzt5IYN+dELA1UA/L7ClJQGJQR6DUnNNAU1hLc4i\n",
       "A+eySKwi+2AA8rZClhuJRvmjcqP+o3Meyu5SLpwxcCzXV6XfDeWMUaXKMoUih2UBNzUgE6HXVWb6\n",
       "aZ244VFcYUAtmVtQuv452B1qNiWgDSpScbcsMGNTDsG82VnVySOb/foEjju+3Bv9qHzRee8GYlxJ\n",
       "nfrhK88/15ugxtIkWYX2ctun8wbP8j39A0uoY9VEKHqc9hyku5wBGmr+C5Fig1IuVxcdi+9a4pt+\n",
       "9G+WHgqnTLeJbSZptbVQCXgDFvwdIMBV9vhbyFHHpOYY5iD57JhcJHIUcRWA2abtNKlH3yMd/aHB\n",
       "eYCW0Xa1FCwuJJ3fSjXZrKEMJpUFQAfaFwUehdVZONsHU3iR/0ijNSfKu2Ni2tW3lOHEMAgVIG6z\n",
       "VqNyTsrmXG9fiOjNc2aY/1uAlqcSTLNVH70yoONt4wJvClGvJiSno7HVDHYDbhdoQcYO6hTVzcdL\n",
       "YvXo3NDk3zZihJULjSiygkIdQxabU9N+CVQaEXNj0DMHuR397IBc9180eMpTFoGQDH2M5XkFe9XH\n",
       "C3n2fDKUdfrH4SMQ7urDqmWtotWpkaNfNvXn/zKlgJ7ApLA/yjANK7DvGDRdwsQAAD3hAAABE0Ga\n",
       "JGxBH/61KoACUODEwAZU06U+hRTN7wBu+se2CGQIYG+n+4v6u/QxWfja1ZT4d2O2u0UBmc7Ki9XZ\n",
       "QRCTEPgBU9a81tox3X2Os7aTXuaek+tFkU5l/giA61jRp/NGMWWNtLqZLS2ocB1f2DciRvXMNfJ8\n",
       "wmq5swa1/nyozxlJ/pou3lEUla2bZ374/+H4dIXIFskp6IYcWlVVoeKr3CMn6fWgpwy0RHwq3NEq\n",
       "Xn4Kzf3jt7d2zljwiyo4qOJkTaTmp9NKBk6oj2Ak/X98tvg+I2cVn/e2nka4J9Ll85IdtA6QuEtv\n",
       "jPTyIfBs0JeP16jm8JSFAbsSvRy/yLEQEhINtj+wCSthNv0q6RPf9eLivoaAAAAAIUGeQniHfwAE\n",
       "AcoDwOPVUPmsawKLHfu4QwhiYgx/fpMiYQAAACIBnmF0Q38AAAMBJZuhhvf0Yrap28ZdceqPcyil\n",
       "BNzFiKmAAAAADQGeY2pDfwAAAwAADekAAAApQZpoSahBaJlMCCP//rUqgAAAM9ST40LXEYg0ADiU\n",
       "EqLIsw7+9uP6d+EAAAAPQZ6GRREsO/8AAAMAAAnZAAAADQGepXRDfwAAAwAADekAAAANAZ6nakN/\n",
       "AAADAAAN6AAAACBBmqxJqEFsmUwII//+tSqAAAADAjB59sXC8CgFeTvcQAAAAA9BnspFFSw7/wAA\n",
       "AwAACdkAAAANAZ7pdEN/AAADAAAN6AAAAA0BnutqQ38AAAMAAA3oAAAAFkGa8EmoQWyZTAgj//61\n",
       "KoAAAAMAAocAAAAPQZ8ORRUsO/8AAAMAAAnZAAAADQGfLXRDfwAAAwAADekAAAANAZ8vakN/AAAD\n",
       "AAAN6AAAAB9BmzRJqEFsmUwII//+tSqAAAruGp7fBzyG8ADT6HqoAAAAD0GfUkUVLDv/AAADAAAJ\n",
       "2QAAAA0Bn3F0Q38AAAMAAA3oAAAADQGfc2pDfwAAAwAADegAAABLQZt4SahBbJlMCCP//rUqgAEZ\n",
       "pRSLIgBowowzQMA2UeKQ8ASA/kw8iwflU+kc1KHGMGqd7IS1Ex7w43efqp/ezV+L1yR7UPWq5gH/\n",
       "AAAAD0GflkUVLDv/AAADAAAJ2AAAAA0Bn7V0Q38AAAMAAA3pAAAADQGft2pDfwAAAwAADekAAAAl\n",
       "QZu8SahBbJlMCCP//rUqgAA5LtauAKv3mwhRWUWVh+syjpAEzAAAAA9Bn9pFFSw7/wAAAwAACdkA\n",
       "AAANAZ/5dEN/AAADAAAN6AAAAA0Bn/tqQ38AAAMAAA3pAAAAGkGb4EmoQWyZTAgh//6qVQAAF2wW\n",
       "fd6KABFxAAAAD0GeHkUVLDv/AAADAAAJ2AAAAA0Bnj10Q38AAAMAAA3oAAAADQGeP2pDfwAAAwAA\n",
       "DekAAAAWQZokSahBbJlMCH///qmWAAADAAATsAAAAA9BnkJFFSw7/wAAAwAACdkAAAANAZ5hdEN/\n",
       "AAADAAAN6AAAAA0BnmNqQ38AAAMAAA3pAAAAFkGaZ0moQWyZTAhv//6nhAAAAwAAJuEAAAAPQZ6F\n",
       "RRUsN/8AAAMAAA3pAAAADQGepmpDfwAAAwAADekAAAUHbW9vdgAAAGxtdmhkAAAAAAAAAAAAAAAA\n",
       "AAAD6AAAD6AAAQAAAQAAAAAAAAAAAAAAAAEAAAAAAAAAAAAAAAAAAAABAAAAAAAAAAAAAAAAAABA\n",
       "AAAAAAAAAAAAAAAAAAAAAAAAAAAAAAAAAAAAAAAAAgAABDF0cmFrAAAAXHRraGQAAAADAAAAAAAA\n",
       "AAAAAAABAAAAAAAAD6AAAAAAAAAAAAAAAAAAAAAAAAEAAAAAAAAAAAAAAAAAAAABAAAAAAAAAAAA\n",
       "AAAAAABAAAAAAfQAAAGQAAAAAAAkZWR0cwAAABxlbHN0AAAAAAAAAAEAAA+gAAAIAAABAAAAAAOp\n",
       "bWRpYQAAACBtZGhkAAAAAAAAAAAAAAAAAAAoAAAAoABVxAAAAAAALWhkbHIAAAAAAAAAAHZpZGUA\n",
       "AAAAAAAAAAAAAABWaWRlb0hhbmRsZXIAAAADVG1pbmYAAAAUdm1oZAAAAAEAAAAAAAAAAAAAACRk\n",
       "aW5mAAAAHGRyZWYAAAAAAAAAAQAAAAx1cmwgAAAAAQAAAxRzdGJsAAAAtHN0c2QAAAAAAAAAAQAA\n",
       "AKRhdmMxAAAAAAAAAAEAAAAAAAAAAAAAAAAAAAAAAfQBkABIAAAASAAAAAAAAAABAAAAAAAAAAAA\n",
       "AAAAAAAAAAAAAAAAAAAAAAAAAAAAAAAAGP//AAAAMmF2Y0MBZAAW/+EAGWdkABas2UCAM+fhAAAD\n",
       "AAEAAAMAFA8WLZYBAAZo6+PLIsAAAAAcdXVpZGtoQPJfJE/FujmlG88DI/MAAAAAAAAAGHN0dHMA\n",
       "AAAAAAAAAQAAACgAAAQAAAAAFHN0c3MAAAAAAAAAAQAAAAEAAAFIY3R0cwAAAAAAAAAnAAAAAQAA\n",
       "CAAAAAABAAAUAAAAAAEAAAgAAAAAAQAAAAAAAAABAAAEAAAAAAEAABQAAAAAAQAACAAAAAABAAAA\n",
       "AAAAAAEAAAQAAAAAAQAAFAAAAAABAAAIAAAAAAEAAAAAAAAAAQAABAAAAAABAAAUAAAAAAEAAAgA\n",
       "AAAAAQAAAAAAAAABAAAEAAAAAAEAABQAAAAAAQAACAAAAAABAAAAAAAAAAEAAAQAAAAAAQAAFAAA\n",
       "AAABAAAIAAAAAAEAAAAAAAAAAQAABAAAAAABAAAUAAAAAAEAAAgAAAAAAQAAAAAAAAABAAAEAAAA\n",
       "AAEAABQAAAAAAQAACAAAAAABAAAAAAAAAAEAAAQAAAAAAQAAFAAAAAABAAAIAAAAAAEAAAAAAAAA\n",
       "AQAABAAAAAABAAAQAAAAAAIAAAQAAAAAHHN0c2MAAAAAAAAAAQAAAAEAAAAoAAAAAQAAALRzdHN6\n",
       "AAAAAAAAAAAAAAAoAABAmQAAARcAAAAlAAAAJgAAABEAAAAtAAAAEwAAABEAAAARAAAAJAAAABMA\n",
       "AAARAAAAEQAAABoAAAATAAAAEQAAABEAAAAjAAAAEwAAABEAAAARAAAATwAAABMAAAARAAAAEQAA\n",
       "ACkAAAATAAAAEQAAABEAAAAeAAAAEwAAABEAAAARAAAAGgAAABMAAAARAAAAEQAAABoAAAATAAAA\n",
       "EQAAABRzdGNvAAAAAAAAAAEAAAAsAAAAYnVkdGEAAABabWV0YQAAAAAAAAAhaGRscgAAAAAAAAAA\n",
       "bWRpcmFwcGwAAAAAAAAAAAAAAAAtaWxzdAAAACWpdG9vAAAAHWRhdGEAAAABAAAAAExhdmY1Ny41\n",
       "Ni4xMDE=\n",
       "\">\n",
       "  Your browser does not support the video tag.\n",
       "</video>"
      ],
      "text/plain": [
       "<matplotlib.animation.FuncAnimation at 0x7ff1a6f6f0d0>"
      ]
     },
     "execution_count": 239,
     "metadata": {},
     "output_type": "execute_result"
    }
   ],
   "source": [
    "\n",
    "fig = plt.figure(dpi=100, figsize=(5,4))\n",
    "plt.scatter(x,y)\n",
    "line, = plt.plot(x, lin(a_guess, b_guess,c_guess, x))\n",
    "plt.close()\n",
    "\n",
    "def animate(i):\n",
    "    line.set_ydata(lin(a_guess,b_guess, c_guess,x))\n",
    "    for i in range(2):\n",
    "        update()\n",
    "    return line,\n",
    "\n",
    "ani = animation.FuncAnimation(fig, animate, np.arange(0, 40), interval=100)\n",
    "ani"
   ]
  },
  {
   "cell_type": "code",
   "execution_count": 240,
   "metadata": {},
   "outputs": [
    {
     "data": {
      "text/plain": [
       "(12.1002, 13.1445, 3.1060)"
      ]
     },
     "execution_count": 240,
     "metadata": {},
     "output_type": "execute_result"
    }
   ],
   "source": [
    "a_guess, b_guess, c_guess"
   ]
  },
  {
   "cell_type": "code",
   "execution_count": null,
   "metadata": {
    "collapsed": true
   },
   "outputs": [],
   "source": []
  }
 ],
 "metadata": {
  "kernelspec": {
   "display_name": "Python 2",
   "language": "python",
   "name": "python2"
  },
  "language_info": {
   "codemirror_mode": {
    "name": "ipython",
    "version": 2
   },
   "file_extension": ".py",
   "mimetype": "text/x-python",
   "name": "python",
   "nbconvert_exporter": "python",
   "pygments_lexer": "ipython2",
   "version": "2.7.13"
  }
 },
 "nbformat": 4,
 "nbformat_minor": 2
}
